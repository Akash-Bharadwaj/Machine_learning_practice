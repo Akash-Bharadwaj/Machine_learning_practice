{
 "metadata": {
  "language_info": {
   "codemirror_mode": {
    "name": "ipython",
    "version": 3
   },
   "file_extension": ".py",
   "mimetype": "text/x-python",
   "name": "python",
   "nbconvert_exporter": "python",
   "pygments_lexer": "ipython3",
   "version": "3.9.2"
  },
  "orig_nbformat": 2,
  "kernelspec": {
   "name": "python392jvsc74a57bd014a336a61cfaefff504b47e2b8e6e50961f0feafa7b211f8ff23081790c52144",
   "display_name": "Python 3.9.2 64-bit"
  }
 },
 "nbformat": 4,
 "nbformat_minor": 2,
 "cells": [
  {
   "cell_type": "code",
   "execution_count": 125,
   "metadata": {},
   "outputs": [],
   "source": [
    "import numpy as np\n",
    "import pandas as pd"
   ]
  },
  {
   "cell_type": "code",
   "execution_count": 126,
   "metadata": {},
   "outputs": [],
   "source": [
    "dict1 = {\n",
    "    \"name\":['harry','akash','rishi','kamlesh'],\n",
    "    \"marks\":[92, 54, 56, 76],\n",
    "    \"city\":['rampur','kolkata','jalandher','patna']\n",
    "}"
   ]
  },
  {
   "source": [
    "## 1. To make a new Dataframe"
   ],
   "cell_type": "markdown",
   "metadata": {}
  },
  {
   "cell_type": "code",
   "execution_count": 127,
   "metadata": {},
   "outputs": [
    {
     "output_type": "execute_result",
     "data": {
      "text/plain": [
       "      name  marks       city\n",
       "0    harry     92     rampur\n",
       "1    akash     54    kolkata\n",
       "2    rishi     56  jalandher\n",
       "3  kamlesh     76      patna"
      ],
      "text/html": "<div>\n<style scoped>\n    .dataframe tbody tr th:only-of-type {\n        vertical-align: middle;\n    }\n\n    .dataframe tbody tr th {\n        vertical-align: top;\n    }\n\n    .dataframe thead th {\n        text-align: right;\n    }\n</style>\n<table border=\"1\" class=\"dataframe\">\n  <thead>\n    <tr style=\"text-align: right;\">\n      <th></th>\n      <th>name</th>\n      <th>marks</th>\n      <th>city</th>\n    </tr>\n  </thead>\n  <tbody>\n    <tr>\n      <th>0</th>\n      <td>harry</td>\n      <td>92</td>\n      <td>rampur</td>\n    </tr>\n    <tr>\n      <th>1</th>\n      <td>akash</td>\n      <td>54</td>\n      <td>kolkata</td>\n    </tr>\n    <tr>\n      <th>2</th>\n      <td>rishi</td>\n      <td>56</td>\n      <td>jalandher</td>\n    </tr>\n    <tr>\n      <th>3</th>\n      <td>kamlesh</td>\n      <td>76</td>\n      <td>patna</td>\n    </tr>\n  </tbody>\n</table>\n</div>"
     },
     "metadata": {},
     "execution_count": 127
    }
   ],
   "source": [
    "df = pd.DataFrame(dict1)\n",
    "df"
   ]
  },
  {
   "source": [
    "## 2. To export dataframe in a csv file"
   ],
   "cell_type": "markdown",
   "metadata": {}
  },
  {
   "cell_type": "code",
   "execution_count": 128,
   "metadata": {},
   "outputs": [],
   "source": [
    "df.to_csv('D:\\Akash\\Machine Learning\\Data_for_ML\\ friends.csv',index=False) # to delete unwanted index no. in our excel file"
   ]
  },
  {
   "source": [
    "## 3. To import datasets "
   ],
   "cell_type": "markdown",
   "metadata": {}
  },
  {
   "cell_type": "code",
   "execution_count": 129,
   "metadata": {},
   "outputs": [],
   "source": [
    "harry = pd.read_csv('D:\\Akash\\Machine Learning\\Data_for_ML\\Book1.csv' , parse_dates=[\"EST\"])\n",
    "# harry"
   ]
  },
  {
   "source": [
    "## 4. some common opertions on dataframe"
   ],
   "cell_type": "markdown",
   "metadata": {}
  },
  {
   "cell_type": "code",
   "execution_count": 130,
   "metadata": {},
   "outputs": [
    {
     "output_type": "execute_result",
     "data": {
      "text/plain": [
       "         EST  Temperature  DewPoint  Humidity  Sea Level PressureIn  \\\n",
       "0 2016-01-01           38        23        52                 30.03   \n",
       "1 2016-01-02           36        18        46                 30.02   \n",
       "2 2016-01-03           40        21        47                 29.86   \n",
       "\n",
       "   VisibilityMiles  WindSpeedMPH  PrecipitationIn  CloudCover Events  \\\n",
       "0               10           8.0              0.0           5    NaN   \n",
       "1               10           7.0              0.0           3    NaN   \n",
       "2               10           8.0              0.0           1    NaN   \n",
       "\n",
       "   WindDirDegrees  \n",
       "0             281  \n",
       "1             275  \n",
       "2             277  "
      ],
      "text/html": "<div>\n<style scoped>\n    .dataframe tbody tr th:only-of-type {\n        vertical-align: middle;\n    }\n\n    .dataframe tbody tr th {\n        vertical-align: top;\n    }\n\n    .dataframe thead th {\n        text-align: right;\n    }\n</style>\n<table border=\"1\" class=\"dataframe\">\n  <thead>\n    <tr style=\"text-align: right;\">\n      <th></th>\n      <th>EST</th>\n      <th>Temperature</th>\n      <th>DewPoint</th>\n      <th>Humidity</th>\n      <th>Sea Level PressureIn</th>\n      <th>VisibilityMiles</th>\n      <th>WindSpeedMPH</th>\n      <th>PrecipitationIn</th>\n      <th>CloudCover</th>\n      <th>Events</th>\n      <th>WindDirDegrees</th>\n    </tr>\n  </thead>\n  <tbody>\n    <tr>\n      <th>0</th>\n      <td>2016-01-01</td>\n      <td>38</td>\n      <td>23</td>\n      <td>52</td>\n      <td>30.03</td>\n      <td>10</td>\n      <td>8.0</td>\n      <td>0.0</td>\n      <td>5</td>\n      <td>NaN</td>\n      <td>281</td>\n    </tr>\n    <tr>\n      <th>1</th>\n      <td>2016-01-02</td>\n      <td>36</td>\n      <td>18</td>\n      <td>46</td>\n      <td>30.02</td>\n      <td>10</td>\n      <td>7.0</td>\n      <td>0.0</td>\n      <td>3</td>\n      <td>NaN</td>\n      <td>275</td>\n    </tr>\n    <tr>\n      <th>2</th>\n      <td>2016-01-03</td>\n      <td>40</td>\n      <td>21</td>\n      <td>47</td>\n      <td>29.86</td>\n      <td>10</td>\n      <td>8.0</td>\n      <td>0.0</td>\n      <td>1</td>\n      <td>NaN</td>\n      <td>277</td>\n    </tr>\n  </tbody>\n</table>\n</div>"
     },
     "metadata": {},
     "execution_count": 130
    }
   ],
   "source": [
    "harry.head(3)"
   ]
  },
  {
   "cell_type": "code",
   "execution_count": 131,
   "metadata": {},
   "outputs": [
    {
     "output_type": "execute_result",
     "data": {
      "text/plain": [
       "          EST  Temperature  DewPoint  Humidity  Sea Level PressureIn  \\\n",
       "28 2016-01-29           36        21        50                 29.58   \n",
       "29 2016-01-30           34        16        46                 30.01   \n",
       "30 2016-01-31           46        28        52                 29.90   \n",
       "\n",
       "    VisibilityMiles  WindSpeedMPH  PrecipitationIn  CloudCover Events  \\\n",
       "28               10           8.0              0.0           4    NaN   \n",
       "29               10           7.0              0.0           0    NaN   \n",
       "30               10           5.0              0.0           0    NaN   \n",
       "\n",
       "    WindDirDegrees  \n",
       "28             298  \n",
       "29             257  \n",
       "30             241  "
      ],
      "text/html": "<div>\n<style scoped>\n    .dataframe tbody tr th:only-of-type {\n        vertical-align: middle;\n    }\n\n    .dataframe tbody tr th {\n        vertical-align: top;\n    }\n\n    .dataframe thead th {\n        text-align: right;\n    }\n</style>\n<table border=\"1\" class=\"dataframe\">\n  <thead>\n    <tr style=\"text-align: right;\">\n      <th></th>\n      <th>EST</th>\n      <th>Temperature</th>\n      <th>DewPoint</th>\n      <th>Humidity</th>\n      <th>Sea Level PressureIn</th>\n      <th>VisibilityMiles</th>\n      <th>WindSpeedMPH</th>\n      <th>PrecipitationIn</th>\n      <th>CloudCover</th>\n      <th>Events</th>\n      <th>WindDirDegrees</th>\n    </tr>\n  </thead>\n  <tbody>\n    <tr>\n      <th>28</th>\n      <td>2016-01-29</td>\n      <td>36</td>\n      <td>21</td>\n      <td>50</td>\n      <td>29.58</td>\n      <td>10</td>\n      <td>8.0</td>\n      <td>0.0</td>\n      <td>4</td>\n      <td>NaN</td>\n      <td>298</td>\n    </tr>\n    <tr>\n      <th>29</th>\n      <td>2016-01-30</td>\n      <td>34</td>\n      <td>16</td>\n      <td>46</td>\n      <td>30.01</td>\n      <td>10</td>\n      <td>7.0</td>\n      <td>0.0</td>\n      <td>0</td>\n      <td>NaN</td>\n      <td>257</td>\n    </tr>\n    <tr>\n      <th>30</th>\n      <td>2016-01-31</td>\n      <td>46</td>\n      <td>28</td>\n      <td>52</td>\n      <td>29.90</td>\n      <td>10</td>\n      <td>5.0</td>\n      <td>0.0</td>\n      <td>0</td>\n      <td>NaN</td>\n      <td>241</td>\n    </tr>\n  </tbody>\n</table>\n</div>"
     },
     "metadata": {},
     "execution_count": 131
    }
   ],
   "source": [
    "harry.tail(3)"
   ]
  },
  {
   "cell_type": "code",
   "execution_count": 132,
   "metadata": {},
   "outputs": [
    {
     "output_type": "execute_result",
     "data": {
      "text/plain": [
       "       Temperature   DewPoint   Humidity  Sea Level PressureIn  \\\n",
       "count    31.000000  31.000000  31.000000             31.000000   \n",
       "mean     34.677419  17.838710  51.677419             29.992903   \n",
       "std       7.639315  11.378626  11.634395              0.237237   \n",
       "min      20.000000  -3.000000  33.000000             29.520000   \n",
       "25%      29.000000  10.000000  44.500000             29.855000   \n",
       "50%      35.000000  18.000000  50.000000             30.010000   \n",
       "75%      39.500000  23.000000  55.000000             30.140000   \n",
       "max      50.000000  46.000000  78.000000             30.570000   \n",
       "\n",
       "       VisibilityMiles  WindSpeedMPH  PrecipitationIn  CloudCover  \\\n",
       "count        31.000000     28.000000        24.000000   31.000000   \n",
       "mean          9.193548      6.892857         0.183750    3.129032   \n",
       "std           1.939405      2.871821         0.583317    2.629853   \n",
       "min           1.000000      2.000000         0.000000    0.000000   \n",
       "25%           9.000000      5.000000         0.000000    1.000000   \n",
       "50%          10.000000      6.500000         0.000000    3.000000   \n",
       "75%          10.000000      8.000000         0.000000    4.500000   \n",
       "max          10.000000     16.000000         2.310000    8.000000   \n",
       "\n",
       "       WindDirDegrees  \n",
       "count       31.000000  \n",
       "mean       247.129032  \n",
       "std         92.308086  \n",
       "min         34.000000  \n",
       "25%        238.000000  \n",
       "50%        281.000000  \n",
       "75%        300.000000  \n",
       "max        345.000000  "
      ],
      "text/html": "<div>\n<style scoped>\n    .dataframe tbody tr th:only-of-type {\n        vertical-align: middle;\n    }\n\n    .dataframe tbody tr th {\n        vertical-align: top;\n    }\n\n    .dataframe thead th {\n        text-align: right;\n    }\n</style>\n<table border=\"1\" class=\"dataframe\">\n  <thead>\n    <tr style=\"text-align: right;\">\n      <th></th>\n      <th>Temperature</th>\n      <th>DewPoint</th>\n      <th>Humidity</th>\n      <th>Sea Level PressureIn</th>\n      <th>VisibilityMiles</th>\n      <th>WindSpeedMPH</th>\n      <th>PrecipitationIn</th>\n      <th>CloudCover</th>\n      <th>WindDirDegrees</th>\n    </tr>\n  </thead>\n  <tbody>\n    <tr>\n      <th>count</th>\n      <td>31.000000</td>\n      <td>31.000000</td>\n      <td>31.000000</td>\n      <td>31.000000</td>\n      <td>31.000000</td>\n      <td>28.000000</td>\n      <td>24.000000</td>\n      <td>31.000000</td>\n      <td>31.000000</td>\n    </tr>\n    <tr>\n      <th>mean</th>\n      <td>34.677419</td>\n      <td>17.838710</td>\n      <td>51.677419</td>\n      <td>29.992903</td>\n      <td>9.193548</td>\n      <td>6.892857</td>\n      <td>0.183750</td>\n      <td>3.129032</td>\n      <td>247.129032</td>\n    </tr>\n    <tr>\n      <th>std</th>\n      <td>7.639315</td>\n      <td>11.378626</td>\n      <td>11.634395</td>\n      <td>0.237237</td>\n      <td>1.939405</td>\n      <td>2.871821</td>\n      <td>0.583317</td>\n      <td>2.629853</td>\n      <td>92.308086</td>\n    </tr>\n    <tr>\n      <th>min</th>\n      <td>20.000000</td>\n      <td>-3.000000</td>\n      <td>33.000000</td>\n      <td>29.520000</td>\n      <td>1.000000</td>\n      <td>2.000000</td>\n      <td>0.000000</td>\n      <td>0.000000</td>\n      <td>34.000000</td>\n    </tr>\n    <tr>\n      <th>25%</th>\n      <td>29.000000</td>\n      <td>10.000000</td>\n      <td>44.500000</td>\n      <td>29.855000</td>\n      <td>9.000000</td>\n      <td>5.000000</td>\n      <td>0.000000</td>\n      <td>1.000000</td>\n      <td>238.000000</td>\n    </tr>\n    <tr>\n      <th>50%</th>\n      <td>35.000000</td>\n      <td>18.000000</td>\n      <td>50.000000</td>\n      <td>30.010000</td>\n      <td>10.000000</td>\n      <td>6.500000</td>\n      <td>0.000000</td>\n      <td>3.000000</td>\n      <td>281.000000</td>\n    </tr>\n    <tr>\n      <th>75%</th>\n      <td>39.500000</td>\n      <td>23.000000</td>\n      <td>55.000000</td>\n      <td>30.140000</td>\n      <td>10.000000</td>\n      <td>8.000000</td>\n      <td>0.000000</td>\n      <td>4.500000</td>\n      <td>300.000000</td>\n    </tr>\n    <tr>\n      <th>max</th>\n      <td>50.000000</td>\n      <td>46.000000</td>\n      <td>78.000000</td>\n      <td>30.570000</td>\n      <td>10.000000</td>\n      <td>16.000000</td>\n      <td>2.310000</td>\n      <td>8.000000</td>\n      <td>345.000000</td>\n    </tr>\n  </tbody>\n</table>\n</div>"
     },
     "metadata": {},
     "execution_count": 132
    }
   ],
   "source": [
    "harry.describe() # very usefull tool "
   ]
  },
  {
   "cell_type": "code",
   "execution_count": 133,
   "metadata": {},
   "outputs": [
    {
     "output_type": "execute_result",
     "data": {
      "text/plain": [
       "EST                     datetime64[ns]\n",
       "Temperature                      int64\n",
       "DewPoint                         int64\n",
       "Humidity                         int64\n",
       "Sea Level PressureIn           float64\n",
       "VisibilityMiles                  int64\n",
       "WindSpeedMPH                   float64\n",
       "PrecipitationIn                float64\n",
       "CloudCover                       int64\n",
       "Events                          object\n",
       "WindDirDegrees                   int64\n",
       "dtype: object"
      ]
     },
     "metadata": {},
     "execution_count": 133
    }
   ],
   "source": [
    "harry.dtypes"
   ]
  },
  {
   "cell_type": "code",
   "execution_count": 134,
   "metadata": {},
   "outputs": [
    {
     "output_type": "stream",
     "name": "stderr",
     "text": [
      "<ipython-input-134-eda6d5e5481e>:1: SettingWithCopyWarning: \nA value is trying to be set on a copy of a slice from a DataFrame\n\nSee the caveats in the documentation: https://pandas.pydata.org/pandas-docs/stable/user_guide/indexing.html#returning-a-view-versus-a-copy\n  harry['Humidity'][0] = 54  # to change datavalue or  harry[3][0] = 54\n"
     ]
    },
    {
     "output_type": "execute_result",
     "data": {
      "text/plain": [
       "         EST  Temperature  DewPoint  Humidity  Sea Level PressureIn  \\\n",
       "0 2016-01-01           38        23        54                 30.03   \n",
       "1 2016-01-02           36        18        46                 30.02   \n",
       "2 2016-01-03           40        21        47                 29.86   \n",
       "\n",
       "   VisibilityMiles  WindSpeedMPH  PrecipitationIn  CloudCover Events  \\\n",
       "0               10           8.0              0.0           5    NaN   \n",
       "1               10           7.0              0.0           3    NaN   \n",
       "2               10           8.0              0.0           1    NaN   \n",
       "\n",
       "   WindDirDegrees  \n",
       "0             281  \n",
       "1             275  \n",
       "2             277  "
      ],
      "text/html": "<div>\n<style scoped>\n    .dataframe tbody tr th:only-of-type {\n        vertical-align: middle;\n    }\n\n    .dataframe tbody tr th {\n        vertical-align: top;\n    }\n\n    .dataframe thead th {\n        text-align: right;\n    }\n</style>\n<table border=\"1\" class=\"dataframe\">\n  <thead>\n    <tr style=\"text-align: right;\">\n      <th></th>\n      <th>EST</th>\n      <th>Temperature</th>\n      <th>DewPoint</th>\n      <th>Humidity</th>\n      <th>Sea Level PressureIn</th>\n      <th>VisibilityMiles</th>\n      <th>WindSpeedMPH</th>\n      <th>PrecipitationIn</th>\n      <th>CloudCover</th>\n      <th>Events</th>\n      <th>WindDirDegrees</th>\n    </tr>\n  </thead>\n  <tbody>\n    <tr>\n      <th>0</th>\n      <td>2016-01-01</td>\n      <td>38</td>\n      <td>23</td>\n      <td>54</td>\n      <td>30.03</td>\n      <td>10</td>\n      <td>8.0</td>\n      <td>0.0</td>\n      <td>5</td>\n      <td>NaN</td>\n      <td>281</td>\n    </tr>\n    <tr>\n      <th>1</th>\n      <td>2016-01-02</td>\n      <td>36</td>\n      <td>18</td>\n      <td>46</td>\n      <td>30.02</td>\n      <td>10</td>\n      <td>7.0</td>\n      <td>0.0</td>\n      <td>3</td>\n      <td>NaN</td>\n      <td>275</td>\n    </tr>\n    <tr>\n      <th>2</th>\n      <td>2016-01-03</td>\n      <td>40</td>\n      <td>21</td>\n      <td>47</td>\n      <td>29.86</td>\n      <td>10</td>\n      <td>8.0</td>\n      <td>0.0</td>\n      <td>1</td>\n      <td>NaN</td>\n      <td>277</td>\n    </tr>\n  </tbody>\n</table>\n</div>"
     },
     "metadata": {},
     "execution_count": 134
    }
   ],
   "source": [
    "harry['Humidity'][0] = 54  # to change datavalue or  harry[3][0] = 54\n",
    "harry.head(3)"
   ]
  },
  {
   "source": [
    "## To suffle a dataframe from row"
   ],
   "cell_type": "markdown",
   "metadata": {}
  },
  {
   "cell_type": "code",
   "execution_count": 135,
   "metadata": {},
   "outputs": [
    {
     "output_type": "execute_result",
     "data": {
      "text/plain": [
       "      name  marks       city\n",
       "0    harry     92     rampur\n",
       "1    akash     54    kolkata\n",
       "2    rishi     56  jalandher\n",
       "3  kamlesh     76      patna"
      ],
      "text/html": "<div>\n<style scoped>\n    .dataframe tbody tr th:only-of-type {\n        vertical-align: middle;\n    }\n\n    .dataframe tbody tr th {\n        vertical-align: top;\n    }\n\n    .dataframe thead th {\n        text-align: right;\n    }\n</style>\n<table border=\"1\" class=\"dataframe\">\n  <thead>\n    <tr style=\"text-align: right;\">\n      <th></th>\n      <th>name</th>\n      <th>marks</th>\n      <th>city</th>\n    </tr>\n  </thead>\n  <tbody>\n    <tr>\n      <th>0</th>\n      <td>harry</td>\n      <td>92</td>\n      <td>rampur</td>\n    </tr>\n    <tr>\n      <th>1</th>\n      <td>akash</td>\n      <td>54</td>\n      <td>kolkata</td>\n    </tr>\n    <tr>\n      <th>2</th>\n      <td>rishi</td>\n      <td>56</td>\n      <td>jalandher</td>\n    </tr>\n    <tr>\n      <th>3</th>\n      <td>kamlesh</td>\n      <td>76</td>\n      <td>patna</td>\n    </tr>\n  </tbody>\n</table>\n</div>"
     },
     "metadata": {},
     "execution_count": 135
    }
   ],
   "source": [
    "df = df.sample(frac=1)\n",
    "df"
   ]
  },
  {
   "source": [
    "# 5. Two typs of DataStructure in Pandas\n",
    "## -> Series  \n",
    "## -> DataFrame "
   ],
   "cell_type": "markdown",
   "metadata": {}
  },
  {
   "source": [
    "### Series"
   ],
   "cell_type": "markdown",
   "metadata": {}
  },
  {
   "cell_type": "code",
   "execution_count": 136,
   "metadata": {},
   "outputs": [],
   "source": [
    "ser = pd.Series(np.random.rand(34))\n",
    "# ser"
   ]
  },
  {
   "cell_type": "code",
   "execution_count": 137,
   "metadata": {},
   "outputs": [
    {
     "output_type": "execute_result",
     "data": {
      "text/plain": [
       "pandas.core.series.Series"
      ]
     },
     "metadata": {},
     "execution_count": 137
    }
   ],
   "source": [
    "type(ser)"
   ]
  },
  {
   "source": [
    "### Dataframe"
   ],
   "cell_type": "markdown",
   "metadata": {}
  },
  {
   "cell_type": "code",
   "execution_count": 138,
   "metadata": {},
   "outputs": [
    {
     "output_type": "execute_result",
     "data": {
      "text/plain": [
       "pandas.core.frame.DataFrame"
      ]
     },
     "metadata": {},
     "execution_count": 138
    }
   ],
   "source": [
    "newdf = pd.DataFrame(np.random.rand(334,5), index = np.arange(334))\n",
    "type(newdf)"
   ]
  },
  {
   "cell_type": "code",
   "execution_count": 139,
   "metadata": {},
   "outputs": [
    {
     "output_type": "execute_result",
     "data": {
      "text/plain": [
       "          0         1         2         3         4\n",
       "0  0.661356  0.790988  0.816955  0.515202  0.348768\n",
       "1  0.369261  0.344447  0.594809  0.454023  0.055929\n",
       "2  0.173050  0.759926  0.340533  0.212910  0.415925\n",
       "3  0.032329  0.200028  0.146421  0.705052  0.083880\n",
       "4  0.464154  0.677997  0.172498  0.127146  0.800099"
      ],
      "text/html": "<div>\n<style scoped>\n    .dataframe tbody tr th:only-of-type {\n        vertical-align: middle;\n    }\n\n    .dataframe tbody tr th {\n        vertical-align: top;\n    }\n\n    .dataframe thead th {\n        text-align: right;\n    }\n</style>\n<table border=\"1\" class=\"dataframe\">\n  <thead>\n    <tr style=\"text-align: right;\">\n      <th></th>\n      <th>0</th>\n      <th>1</th>\n      <th>2</th>\n      <th>3</th>\n      <th>4</th>\n    </tr>\n  </thead>\n  <tbody>\n    <tr>\n      <th>0</th>\n      <td>0.661356</td>\n      <td>0.790988</td>\n      <td>0.816955</td>\n      <td>0.515202</td>\n      <td>0.348768</td>\n    </tr>\n    <tr>\n      <th>1</th>\n      <td>0.369261</td>\n      <td>0.344447</td>\n      <td>0.594809</td>\n      <td>0.454023</td>\n      <td>0.055929</td>\n    </tr>\n    <tr>\n      <th>2</th>\n      <td>0.173050</td>\n      <td>0.759926</td>\n      <td>0.340533</td>\n      <td>0.212910</td>\n      <td>0.415925</td>\n    </tr>\n    <tr>\n      <th>3</th>\n      <td>0.032329</td>\n      <td>0.200028</td>\n      <td>0.146421</td>\n      <td>0.705052</td>\n      <td>0.083880</td>\n    </tr>\n    <tr>\n      <th>4</th>\n      <td>0.464154</td>\n      <td>0.677997</td>\n      <td>0.172498</td>\n      <td>0.127146</td>\n      <td>0.800099</td>\n    </tr>\n  </tbody>\n</table>\n</div>"
     },
     "metadata": {},
     "execution_count": 139
    }
   ],
   "source": [
    "newdf.head()"
   ]
  },
  {
   "cell_type": "code",
   "execution_count": 140,
   "metadata": {},
   "outputs": [
    {
     "output_type": "execute_result",
     "data": {
      "text/plain": [
       "Int64Index([  0,   1,   2,   3,   4,   5,   6,   7,   8,   9,\n",
       "            ...\n",
       "            324, 325, 326, 327, 328, 329, 330, 331, 332, 333],\n",
       "           dtype='int64', length=334)"
      ]
     },
     "metadata": {},
     "execution_count": 140
    }
   ],
   "source": [
    "newdf.index"
   ]
  },
  {
   "cell_type": "code",
   "execution_count": 141,
   "metadata": {},
   "outputs": [
    {
     "output_type": "execute_result",
     "data": {
      "text/plain": [
       "RangeIndex(start=0, stop=5, step=1)"
      ]
     },
     "metadata": {},
     "execution_count": 141
    }
   ],
   "source": [
    "newdf.columns"
   ]
  },
  {
   "source": [
    "# 6. More Operations on datasets"
   ],
   "cell_type": "markdown",
   "metadata": {}
  },
  {
   "cell_type": "code",
   "execution_count": 142,
   "metadata": {},
   "outputs": [
    {
     "output_type": "execute_result",
     "data": {
      "text/plain": [
       "array([[0.66135588, 0.79098814, 0.81695547, 0.51520225, 0.34876795],\n",
       "       [0.36926104, 0.34444694, 0.59480881, 0.45402314, 0.05592909],\n",
       "       [0.17304967, 0.75992589, 0.34053282, 0.21290977, 0.41592451],\n",
       "       ...,\n",
       "       [0.51222336, 0.83748778, 0.52170287, 0.64045172, 0.69305197],\n",
       "       [0.81801019, 0.7408882 , 0.29419477, 0.0274681 , 0.48283493],\n",
       "       [0.34100499, 0.67062897, 0.08164382, 0.4200348 , 0.84927652]])"
      ]
     },
     "metadata": {},
     "execution_count": 142
    }
   ],
   "source": [
    "newdf.to_numpy()  # to convert pandas dataframe into nympy array"
   ]
  },
  {
   "cell_type": "code",
   "execution_count": 143,
   "metadata": {},
   "outputs": [
    {
     "output_type": "execute_result",
     "data": {
      "text/plain": [
       "        0         1         2         3         4         5         6    \\\n",
       "0  0.661356  0.369261  0.173050  0.032329  0.464154  0.431176  0.305906   \n",
       "1  0.790988  0.344447  0.759926  0.200028  0.677997  0.419692  0.149652   \n",
       "2  0.816955  0.594809  0.340533  0.146421  0.172498  0.052647  0.230062   \n",
       "3  0.515202  0.454023  0.212910  0.705052  0.127146  0.451053  0.936771   \n",
       "4  0.348768  0.055929  0.415925  0.083880  0.800099  0.582615  0.995378   \n",
       "\n",
       "        7         8         9    ...       324       325       326       327  \\\n",
       "0  0.202698  0.710082  0.924411  ...  0.672327  0.826414  0.572422  0.770924   \n",
       "1  0.114420  0.834376  0.347278  ...  0.853540  0.024424  0.021121  0.948467   \n",
       "2  0.227797  0.388903  0.014833  ...  0.240637  0.401416  0.824831  0.935813   \n",
       "3  0.041946  0.828328  0.073110  ...  0.173041  0.302766  0.088114  0.564927   \n",
       "4  0.961846  0.660486  0.884122  ...  0.896517  0.818581  0.358311  0.135070   \n",
       "\n",
       "        328       329       330       331       332       333  \n",
       "0  0.984020  0.671657  0.675012  0.512223  0.818010  0.341005  \n",
       "1  0.132770  0.081046  0.924776  0.837488  0.740888  0.670629  \n",
       "2  0.594300  0.333107  0.168315  0.521703  0.294195  0.081644  \n",
       "3  0.399013  0.275409  0.050523  0.640452  0.027468  0.420035  \n",
       "4  0.331002  0.663722  0.527453  0.693052  0.482835  0.849277  \n",
       "\n",
       "[5 rows x 334 columns]"
      ],
      "text/html": "<div>\n<style scoped>\n    .dataframe tbody tr th:only-of-type {\n        vertical-align: middle;\n    }\n\n    .dataframe tbody tr th {\n        vertical-align: top;\n    }\n\n    .dataframe thead th {\n        text-align: right;\n    }\n</style>\n<table border=\"1\" class=\"dataframe\">\n  <thead>\n    <tr style=\"text-align: right;\">\n      <th></th>\n      <th>0</th>\n      <th>1</th>\n      <th>2</th>\n      <th>3</th>\n      <th>4</th>\n      <th>5</th>\n      <th>6</th>\n      <th>7</th>\n      <th>8</th>\n      <th>9</th>\n      <th>...</th>\n      <th>324</th>\n      <th>325</th>\n      <th>326</th>\n      <th>327</th>\n      <th>328</th>\n      <th>329</th>\n      <th>330</th>\n      <th>331</th>\n      <th>332</th>\n      <th>333</th>\n    </tr>\n  </thead>\n  <tbody>\n    <tr>\n      <th>0</th>\n      <td>0.661356</td>\n      <td>0.369261</td>\n      <td>0.173050</td>\n      <td>0.032329</td>\n      <td>0.464154</td>\n      <td>0.431176</td>\n      <td>0.305906</td>\n      <td>0.202698</td>\n      <td>0.710082</td>\n      <td>0.924411</td>\n      <td>...</td>\n      <td>0.672327</td>\n      <td>0.826414</td>\n      <td>0.572422</td>\n      <td>0.770924</td>\n      <td>0.984020</td>\n      <td>0.671657</td>\n      <td>0.675012</td>\n      <td>0.512223</td>\n      <td>0.818010</td>\n      <td>0.341005</td>\n    </tr>\n    <tr>\n      <th>1</th>\n      <td>0.790988</td>\n      <td>0.344447</td>\n      <td>0.759926</td>\n      <td>0.200028</td>\n      <td>0.677997</td>\n      <td>0.419692</td>\n      <td>0.149652</td>\n      <td>0.114420</td>\n      <td>0.834376</td>\n      <td>0.347278</td>\n      <td>...</td>\n      <td>0.853540</td>\n      <td>0.024424</td>\n      <td>0.021121</td>\n      <td>0.948467</td>\n      <td>0.132770</td>\n      <td>0.081046</td>\n      <td>0.924776</td>\n      <td>0.837488</td>\n      <td>0.740888</td>\n      <td>0.670629</td>\n    </tr>\n    <tr>\n      <th>2</th>\n      <td>0.816955</td>\n      <td>0.594809</td>\n      <td>0.340533</td>\n      <td>0.146421</td>\n      <td>0.172498</td>\n      <td>0.052647</td>\n      <td>0.230062</td>\n      <td>0.227797</td>\n      <td>0.388903</td>\n      <td>0.014833</td>\n      <td>...</td>\n      <td>0.240637</td>\n      <td>0.401416</td>\n      <td>0.824831</td>\n      <td>0.935813</td>\n      <td>0.594300</td>\n      <td>0.333107</td>\n      <td>0.168315</td>\n      <td>0.521703</td>\n      <td>0.294195</td>\n      <td>0.081644</td>\n    </tr>\n    <tr>\n      <th>3</th>\n      <td>0.515202</td>\n      <td>0.454023</td>\n      <td>0.212910</td>\n      <td>0.705052</td>\n      <td>0.127146</td>\n      <td>0.451053</td>\n      <td>0.936771</td>\n      <td>0.041946</td>\n      <td>0.828328</td>\n      <td>0.073110</td>\n      <td>...</td>\n      <td>0.173041</td>\n      <td>0.302766</td>\n      <td>0.088114</td>\n      <td>0.564927</td>\n      <td>0.399013</td>\n      <td>0.275409</td>\n      <td>0.050523</td>\n      <td>0.640452</td>\n      <td>0.027468</td>\n      <td>0.420035</td>\n    </tr>\n    <tr>\n      <th>4</th>\n      <td>0.348768</td>\n      <td>0.055929</td>\n      <td>0.415925</td>\n      <td>0.083880</td>\n      <td>0.800099</td>\n      <td>0.582615</td>\n      <td>0.995378</td>\n      <td>0.961846</td>\n      <td>0.660486</td>\n      <td>0.884122</td>\n      <td>...</td>\n      <td>0.896517</td>\n      <td>0.818581</td>\n      <td>0.358311</td>\n      <td>0.135070</td>\n      <td>0.331002</td>\n      <td>0.663722</td>\n      <td>0.527453</td>\n      <td>0.693052</td>\n      <td>0.482835</td>\n      <td>0.849277</td>\n    </tr>\n  </tbody>\n</table>\n<p>5 rows × 334 columns</p>\n</div>"
     },
     "metadata": {},
     "execution_count": 143
    }
   ],
   "source": [
    "newdf.T  # it transpose(interchange rows and columns)"
   ]
  },
  {
   "cell_type": "code",
   "execution_count": 144,
   "metadata": {},
   "outputs": [
    {
     "output_type": "execute_result",
     "data": {
      "text/plain": [
       "            0         1         2         3         4\n",
       "0    0.661356  0.790988  0.816955  0.515202  0.348768\n",
       "1    0.369261  0.344447  0.594809  0.454023  0.055929\n",
       "2    0.173050  0.759926  0.340533  0.212910  0.415925\n",
       "3    0.032329  0.200028  0.146421  0.705052  0.083880\n",
       "4    0.464154  0.677997  0.172498  0.127146  0.800099\n",
       "..        ...       ...       ...       ...       ...\n",
       "329  0.671657  0.081046  0.333107  0.275409  0.663722\n",
       "330  0.675012  0.924776  0.168315  0.050523  0.527453\n",
       "331  0.512223  0.837488  0.521703  0.640452  0.693052\n",
       "332  0.818010  0.740888  0.294195  0.027468  0.482835\n",
       "333  0.341005  0.670629  0.081644  0.420035  0.849277\n",
       "\n",
       "[334 rows x 5 columns]"
      ],
      "text/html": "<div>\n<style scoped>\n    .dataframe tbody tr th:only-of-type {\n        vertical-align: middle;\n    }\n\n    .dataframe tbody tr th {\n        vertical-align: top;\n    }\n\n    .dataframe thead th {\n        text-align: right;\n    }\n</style>\n<table border=\"1\" class=\"dataframe\">\n  <thead>\n    <tr style=\"text-align: right;\">\n      <th></th>\n      <th>0</th>\n      <th>1</th>\n      <th>2</th>\n      <th>3</th>\n      <th>4</th>\n    </tr>\n  </thead>\n  <tbody>\n    <tr>\n      <th>0</th>\n      <td>0.661356</td>\n      <td>0.790988</td>\n      <td>0.816955</td>\n      <td>0.515202</td>\n      <td>0.348768</td>\n    </tr>\n    <tr>\n      <th>1</th>\n      <td>0.369261</td>\n      <td>0.344447</td>\n      <td>0.594809</td>\n      <td>0.454023</td>\n      <td>0.055929</td>\n    </tr>\n    <tr>\n      <th>2</th>\n      <td>0.173050</td>\n      <td>0.759926</td>\n      <td>0.340533</td>\n      <td>0.212910</td>\n      <td>0.415925</td>\n    </tr>\n    <tr>\n      <th>3</th>\n      <td>0.032329</td>\n      <td>0.200028</td>\n      <td>0.146421</td>\n      <td>0.705052</td>\n      <td>0.083880</td>\n    </tr>\n    <tr>\n      <th>4</th>\n      <td>0.464154</td>\n      <td>0.677997</td>\n      <td>0.172498</td>\n      <td>0.127146</td>\n      <td>0.800099</td>\n    </tr>\n    <tr>\n      <th>...</th>\n      <td>...</td>\n      <td>...</td>\n      <td>...</td>\n      <td>...</td>\n      <td>...</td>\n    </tr>\n    <tr>\n      <th>329</th>\n      <td>0.671657</td>\n      <td>0.081046</td>\n      <td>0.333107</td>\n      <td>0.275409</td>\n      <td>0.663722</td>\n    </tr>\n    <tr>\n      <th>330</th>\n      <td>0.675012</td>\n      <td>0.924776</td>\n      <td>0.168315</td>\n      <td>0.050523</td>\n      <td>0.527453</td>\n    </tr>\n    <tr>\n      <th>331</th>\n      <td>0.512223</td>\n      <td>0.837488</td>\n      <td>0.521703</td>\n      <td>0.640452</td>\n      <td>0.693052</td>\n    </tr>\n    <tr>\n      <th>332</th>\n      <td>0.818010</td>\n      <td>0.740888</td>\n      <td>0.294195</td>\n      <td>0.027468</td>\n      <td>0.482835</td>\n    </tr>\n    <tr>\n      <th>333</th>\n      <td>0.341005</td>\n      <td>0.670629</td>\n      <td>0.081644</td>\n      <td>0.420035</td>\n      <td>0.849277</td>\n    </tr>\n  </tbody>\n</table>\n<p>334 rows × 5 columns</p>\n</div>"
     },
     "metadata": {},
     "execution_count": 144
    }
   ],
   "source": [
    "newdf"
   ]
  },
  {
   "cell_type": "code",
   "execution_count": 145,
   "metadata": {},
   "outputs": [
    {
     "output_type": "execute_result",
     "data": {
      "text/plain": [
       "            0         1         2         3         4\n",
       "333  0.341005  0.670629  0.081644  0.420035  0.849277\n",
       "332  0.818010  0.740888  0.294195  0.027468  0.482835\n",
       "331  0.512223  0.837488  0.521703  0.640452  0.693052\n",
       "330  0.675012  0.924776  0.168315  0.050523  0.527453\n",
       "329  0.671657  0.081046  0.333107  0.275409  0.663722\n",
       "..        ...       ...       ...       ...       ...\n",
       "4    0.464154  0.677997  0.172498  0.127146  0.800099\n",
       "3    0.032329  0.200028  0.146421  0.705052  0.083880\n",
       "2    0.173050  0.759926  0.340533  0.212910  0.415925\n",
       "1    0.369261  0.344447  0.594809  0.454023  0.055929\n",
       "0    0.661356  0.790988  0.816955  0.515202  0.348768\n",
       "\n",
       "[334 rows x 5 columns]"
      ],
      "text/html": "<div>\n<style scoped>\n    .dataframe tbody tr th:only-of-type {\n        vertical-align: middle;\n    }\n\n    .dataframe tbody tr th {\n        vertical-align: top;\n    }\n\n    .dataframe thead th {\n        text-align: right;\n    }\n</style>\n<table border=\"1\" class=\"dataframe\">\n  <thead>\n    <tr style=\"text-align: right;\">\n      <th></th>\n      <th>0</th>\n      <th>1</th>\n      <th>2</th>\n      <th>3</th>\n      <th>4</th>\n    </tr>\n  </thead>\n  <tbody>\n    <tr>\n      <th>333</th>\n      <td>0.341005</td>\n      <td>0.670629</td>\n      <td>0.081644</td>\n      <td>0.420035</td>\n      <td>0.849277</td>\n    </tr>\n    <tr>\n      <th>332</th>\n      <td>0.818010</td>\n      <td>0.740888</td>\n      <td>0.294195</td>\n      <td>0.027468</td>\n      <td>0.482835</td>\n    </tr>\n    <tr>\n      <th>331</th>\n      <td>0.512223</td>\n      <td>0.837488</td>\n      <td>0.521703</td>\n      <td>0.640452</td>\n      <td>0.693052</td>\n    </tr>\n    <tr>\n      <th>330</th>\n      <td>0.675012</td>\n      <td>0.924776</td>\n      <td>0.168315</td>\n      <td>0.050523</td>\n      <td>0.527453</td>\n    </tr>\n    <tr>\n      <th>329</th>\n      <td>0.671657</td>\n      <td>0.081046</td>\n      <td>0.333107</td>\n      <td>0.275409</td>\n      <td>0.663722</td>\n    </tr>\n    <tr>\n      <th>...</th>\n      <td>...</td>\n      <td>...</td>\n      <td>...</td>\n      <td>...</td>\n      <td>...</td>\n    </tr>\n    <tr>\n      <th>4</th>\n      <td>0.464154</td>\n      <td>0.677997</td>\n      <td>0.172498</td>\n      <td>0.127146</td>\n      <td>0.800099</td>\n    </tr>\n    <tr>\n      <th>3</th>\n      <td>0.032329</td>\n      <td>0.200028</td>\n      <td>0.146421</td>\n      <td>0.705052</td>\n      <td>0.083880</td>\n    </tr>\n    <tr>\n      <th>2</th>\n      <td>0.173050</td>\n      <td>0.759926</td>\n      <td>0.340533</td>\n      <td>0.212910</td>\n      <td>0.415925</td>\n    </tr>\n    <tr>\n      <th>1</th>\n      <td>0.369261</td>\n      <td>0.344447</td>\n      <td>0.594809</td>\n      <td>0.454023</td>\n      <td>0.055929</td>\n    </tr>\n    <tr>\n      <th>0</th>\n      <td>0.661356</td>\n      <td>0.790988</td>\n      <td>0.816955</td>\n      <td>0.515202</td>\n      <td>0.348768</td>\n    </tr>\n  </tbody>\n</table>\n<p>334 rows × 5 columns</p>\n</div>"
     },
     "metadata": {},
     "execution_count": 145
    }
   ],
   "source": [
    "newdf.sort_index(axis=0, ascending=False)  # it sort index in reverse , \n",
    "                                            # here axis=0 (rows) and axis=1 (columns) "
   ]
  },
  {
   "cell_type": "code",
   "execution_count": 146,
   "metadata": {},
   "outputs": [],
   "source": [
    "df2 = newdf.copy()  # it copy dataframe to other"
   ]
  },
  {
   "cell_type": "code",
   "execution_count": 147,
   "metadata": {},
   "outputs": [
    {
     "output_type": "execute_result",
     "data": {
      "text/plain": [
       "            0         1         2         3         4\n",
       "0    0.661356  0.790988  0.816955  0.515202  0.348768\n",
       "1    0.369261  0.344447  0.594809  0.454023  0.055929\n",
       "2    0.173050  0.759926  0.340533  0.212910  0.415925\n",
       "3    0.032329  0.200028  0.146421  0.705052  0.083880\n",
       "4    0.464154  0.677997  0.172498  0.127146  0.800099\n",
       "..        ...       ...       ...       ...       ...\n",
       "329  0.671657  0.081046  0.333107  0.275409  0.663722\n",
       "330  0.675012  0.924776  0.168315  0.050523  0.527453\n",
       "331  0.512223  0.837488  0.521703  0.640452  0.693052\n",
       "332  0.818010  0.740888  0.294195  0.027468  0.482835\n",
       "333  0.341005  0.670629  0.081644  0.420035  0.849277\n",
       "\n",
       "[334 rows x 5 columns]"
      ],
      "text/html": "<div>\n<style scoped>\n    .dataframe tbody tr th:only-of-type {\n        vertical-align: middle;\n    }\n\n    .dataframe tbody tr th {\n        vertical-align: top;\n    }\n\n    .dataframe thead th {\n        text-align: right;\n    }\n</style>\n<table border=\"1\" class=\"dataframe\">\n  <thead>\n    <tr style=\"text-align: right;\">\n      <th></th>\n      <th>0</th>\n      <th>1</th>\n      <th>2</th>\n      <th>3</th>\n      <th>4</th>\n    </tr>\n  </thead>\n  <tbody>\n    <tr>\n      <th>0</th>\n      <td>0.661356</td>\n      <td>0.790988</td>\n      <td>0.816955</td>\n      <td>0.515202</td>\n      <td>0.348768</td>\n    </tr>\n    <tr>\n      <th>1</th>\n      <td>0.369261</td>\n      <td>0.344447</td>\n      <td>0.594809</td>\n      <td>0.454023</td>\n      <td>0.055929</td>\n    </tr>\n    <tr>\n      <th>2</th>\n      <td>0.173050</td>\n      <td>0.759926</td>\n      <td>0.340533</td>\n      <td>0.212910</td>\n      <td>0.415925</td>\n    </tr>\n    <tr>\n      <th>3</th>\n      <td>0.032329</td>\n      <td>0.200028</td>\n      <td>0.146421</td>\n      <td>0.705052</td>\n      <td>0.083880</td>\n    </tr>\n    <tr>\n      <th>4</th>\n      <td>0.464154</td>\n      <td>0.677997</td>\n      <td>0.172498</td>\n      <td>0.127146</td>\n      <td>0.800099</td>\n    </tr>\n    <tr>\n      <th>...</th>\n      <td>...</td>\n      <td>...</td>\n      <td>...</td>\n      <td>...</td>\n      <td>...</td>\n    </tr>\n    <tr>\n      <th>329</th>\n      <td>0.671657</td>\n      <td>0.081046</td>\n      <td>0.333107</td>\n      <td>0.275409</td>\n      <td>0.663722</td>\n    </tr>\n    <tr>\n      <th>330</th>\n      <td>0.675012</td>\n      <td>0.924776</td>\n      <td>0.168315</td>\n      <td>0.050523</td>\n      <td>0.527453</td>\n    </tr>\n    <tr>\n      <th>331</th>\n      <td>0.512223</td>\n      <td>0.837488</td>\n      <td>0.521703</td>\n      <td>0.640452</td>\n      <td>0.693052</td>\n    </tr>\n    <tr>\n      <th>332</th>\n      <td>0.818010</td>\n      <td>0.740888</td>\n      <td>0.294195</td>\n      <td>0.027468</td>\n      <td>0.482835</td>\n    </tr>\n    <tr>\n      <th>333</th>\n      <td>0.341005</td>\n      <td>0.670629</td>\n      <td>0.081644</td>\n      <td>0.420035</td>\n      <td>0.849277</td>\n    </tr>\n  </tbody>\n</table>\n<p>334 rows × 5 columns</p>\n</div>"
     },
     "metadata": {},
     "execution_count": 147
    }
   ],
   "source": [
    "df2"
   ]
  },
  {
   "cell_type": "code",
   "execution_count": 148,
   "metadata": {},
   "outputs": [],
   "source": [
    "df2[0][0] = 97835  # it change value "
   ]
  },
  {
   "cell_type": "code",
   "execution_count": 149,
   "metadata": {},
   "outputs": [
    {
     "output_type": "execute_result",
     "data": {
      "text/plain": [
       "                0         1         2         3         4\n",
       "0    97835.000000  0.790988  0.816955  0.515202  0.348768\n",
       "1        0.369261  0.344447  0.594809  0.454023  0.055929\n",
       "2        0.173050  0.759926  0.340533  0.212910  0.415925\n",
       "3        0.032329  0.200028  0.146421  0.705052  0.083880\n",
       "4        0.464154  0.677997  0.172498  0.127146  0.800099\n",
       "..            ...       ...       ...       ...       ...\n",
       "329      0.671657  0.081046  0.333107  0.275409  0.663722\n",
       "330      0.675012  0.924776  0.168315  0.050523  0.527453\n",
       "331      0.512223  0.837488  0.521703  0.640452  0.693052\n",
       "332      0.818010  0.740888  0.294195  0.027468  0.482835\n",
       "333      0.341005  0.670629  0.081644  0.420035  0.849277\n",
       "\n",
       "[334 rows x 5 columns]"
      ],
      "text/html": "<div>\n<style scoped>\n    .dataframe tbody tr th:only-of-type {\n        vertical-align: middle;\n    }\n\n    .dataframe tbody tr th {\n        vertical-align: top;\n    }\n\n    .dataframe thead th {\n        text-align: right;\n    }\n</style>\n<table border=\"1\" class=\"dataframe\">\n  <thead>\n    <tr style=\"text-align: right;\">\n      <th></th>\n      <th>0</th>\n      <th>1</th>\n      <th>2</th>\n      <th>3</th>\n      <th>4</th>\n    </tr>\n  </thead>\n  <tbody>\n    <tr>\n      <th>0</th>\n      <td>97835.000000</td>\n      <td>0.790988</td>\n      <td>0.816955</td>\n      <td>0.515202</td>\n      <td>0.348768</td>\n    </tr>\n    <tr>\n      <th>1</th>\n      <td>0.369261</td>\n      <td>0.344447</td>\n      <td>0.594809</td>\n      <td>0.454023</td>\n      <td>0.055929</td>\n    </tr>\n    <tr>\n      <th>2</th>\n      <td>0.173050</td>\n      <td>0.759926</td>\n      <td>0.340533</td>\n      <td>0.212910</td>\n      <td>0.415925</td>\n    </tr>\n    <tr>\n      <th>3</th>\n      <td>0.032329</td>\n      <td>0.200028</td>\n      <td>0.146421</td>\n      <td>0.705052</td>\n      <td>0.083880</td>\n    </tr>\n    <tr>\n      <th>4</th>\n      <td>0.464154</td>\n      <td>0.677997</td>\n      <td>0.172498</td>\n      <td>0.127146</td>\n      <td>0.800099</td>\n    </tr>\n    <tr>\n      <th>...</th>\n      <td>...</td>\n      <td>...</td>\n      <td>...</td>\n      <td>...</td>\n      <td>...</td>\n    </tr>\n    <tr>\n      <th>329</th>\n      <td>0.671657</td>\n      <td>0.081046</td>\n      <td>0.333107</td>\n      <td>0.275409</td>\n      <td>0.663722</td>\n    </tr>\n    <tr>\n      <th>330</th>\n      <td>0.675012</td>\n      <td>0.924776</td>\n      <td>0.168315</td>\n      <td>0.050523</td>\n      <td>0.527453</td>\n    </tr>\n    <tr>\n      <th>331</th>\n      <td>0.512223</td>\n      <td>0.837488</td>\n      <td>0.521703</td>\n      <td>0.640452</td>\n      <td>0.693052</td>\n    </tr>\n    <tr>\n      <th>332</th>\n      <td>0.818010</td>\n      <td>0.740888</td>\n      <td>0.294195</td>\n      <td>0.027468</td>\n      <td>0.482835</td>\n    </tr>\n    <tr>\n      <th>333</th>\n      <td>0.341005</td>\n      <td>0.670629</td>\n      <td>0.081644</td>\n      <td>0.420035</td>\n      <td>0.849277</td>\n    </tr>\n  </tbody>\n</table>\n<p>334 rows × 5 columns</p>\n</div>"
     },
     "metadata": {},
     "execution_count": 149
    }
   ],
   "source": [
    "df2"
   ]
  },
  {
   "cell_type": "code",
   "execution_count": 150,
   "metadata": {},
   "outputs": [],
   "source": [
    "df2.columns = list(\"ABCDE\")  # it change column index name"
   ]
  },
  {
   "cell_type": "code",
   "execution_count": 151,
   "metadata": {},
   "outputs": [
    {
     "output_type": "execute_result",
     "data": {
      "text/plain": [
       "                A         B         C         D         E\n",
       "0    97835.000000  0.790988  0.816955  0.515202  0.348768\n",
       "1        0.369261  0.344447  0.594809  0.454023  0.055929\n",
       "2        0.173050  0.759926  0.340533  0.212910  0.415925\n",
       "3        0.032329  0.200028  0.146421  0.705052  0.083880\n",
       "4        0.464154  0.677997  0.172498  0.127146  0.800099\n",
       "..            ...       ...       ...       ...       ...\n",
       "329      0.671657  0.081046  0.333107  0.275409  0.663722\n",
       "330      0.675012  0.924776  0.168315  0.050523  0.527453\n",
       "331      0.512223  0.837488  0.521703  0.640452  0.693052\n",
       "332      0.818010  0.740888  0.294195  0.027468  0.482835\n",
       "333      0.341005  0.670629  0.081644  0.420035  0.849277\n",
       "\n",
       "[334 rows x 5 columns]"
      ],
      "text/html": "<div>\n<style scoped>\n    .dataframe tbody tr th:only-of-type {\n        vertical-align: middle;\n    }\n\n    .dataframe tbody tr th {\n        vertical-align: top;\n    }\n\n    .dataframe thead th {\n        text-align: right;\n    }\n</style>\n<table border=\"1\" class=\"dataframe\">\n  <thead>\n    <tr style=\"text-align: right;\">\n      <th></th>\n      <th>A</th>\n      <th>B</th>\n      <th>C</th>\n      <th>D</th>\n      <th>E</th>\n    </tr>\n  </thead>\n  <tbody>\n    <tr>\n      <th>0</th>\n      <td>97835.000000</td>\n      <td>0.790988</td>\n      <td>0.816955</td>\n      <td>0.515202</td>\n      <td>0.348768</td>\n    </tr>\n    <tr>\n      <th>1</th>\n      <td>0.369261</td>\n      <td>0.344447</td>\n      <td>0.594809</td>\n      <td>0.454023</td>\n      <td>0.055929</td>\n    </tr>\n    <tr>\n      <th>2</th>\n      <td>0.173050</td>\n      <td>0.759926</td>\n      <td>0.340533</td>\n      <td>0.212910</td>\n      <td>0.415925</td>\n    </tr>\n    <tr>\n      <th>3</th>\n      <td>0.032329</td>\n      <td>0.200028</td>\n      <td>0.146421</td>\n      <td>0.705052</td>\n      <td>0.083880</td>\n    </tr>\n    <tr>\n      <th>4</th>\n      <td>0.464154</td>\n      <td>0.677997</td>\n      <td>0.172498</td>\n      <td>0.127146</td>\n      <td>0.800099</td>\n    </tr>\n    <tr>\n      <th>...</th>\n      <td>...</td>\n      <td>...</td>\n      <td>...</td>\n      <td>...</td>\n      <td>...</td>\n    </tr>\n    <tr>\n      <th>329</th>\n      <td>0.671657</td>\n      <td>0.081046</td>\n      <td>0.333107</td>\n      <td>0.275409</td>\n      <td>0.663722</td>\n    </tr>\n    <tr>\n      <th>330</th>\n      <td>0.675012</td>\n      <td>0.924776</td>\n      <td>0.168315</td>\n      <td>0.050523</td>\n      <td>0.527453</td>\n    </tr>\n    <tr>\n      <th>331</th>\n      <td>0.512223</td>\n      <td>0.837488</td>\n      <td>0.521703</td>\n      <td>0.640452</td>\n      <td>0.693052</td>\n    </tr>\n    <tr>\n      <th>332</th>\n      <td>0.818010</td>\n      <td>0.740888</td>\n      <td>0.294195</td>\n      <td>0.027468</td>\n      <td>0.482835</td>\n    </tr>\n    <tr>\n      <th>333</th>\n      <td>0.341005</td>\n      <td>0.670629</td>\n      <td>0.081644</td>\n      <td>0.420035</td>\n      <td>0.849277</td>\n    </tr>\n  </tbody>\n</table>\n<p>334 rows × 5 columns</p>\n</div>"
     },
     "metadata": {},
     "execution_count": 151
    }
   ],
   "source": [
    "df2"
   ]
  },
  {
   "source": [
    "# 7. Slicing of DataFrame"
   ],
   "cell_type": "markdown",
   "metadata": {}
  },
  {
   "source": [
    "## loc -> it read index through the name given to it. ex> [0,'A'] , here row_name = 0 , column_name = A\n",
    "## iloc -> it read index through the index_number.  ex> [3,4] , here row_index = 3 , column_index = 4 , no matter what is the name of columns and rows"
   ],
   "cell_type": "markdown",
   "metadata": {}
  },
  {
   "source": [
    "# 8. loc function"
   ],
   "cell_type": "markdown",
   "metadata": {}
  },
  {
   "cell_type": "code",
   "execution_count": 152,
   "metadata": {},
   "outputs": [
    {
     "output_type": "execute_result",
     "data": {
      "text/plain": [
       "               A         B         C         D         E      0\n",
       "0  654789.000000  0.790988  0.816955  0.515202  0.348768  654.0\n",
       "1       0.369261  0.344447  0.594809  0.454023  0.055929    NaN\n",
       "2       0.173050  0.759926  0.340533  0.212910  0.415925    NaN\n",
       "3       0.032329  0.200028  0.146421  0.705052  0.083880    NaN\n",
       "4       0.464154  0.677997  0.172498  0.127146  0.800099    NaN"
      ],
      "text/html": "<div>\n<style scoped>\n    .dataframe tbody tr th:only-of-type {\n        vertical-align: middle;\n    }\n\n    .dataframe tbody tr th {\n        vertical-align: top;\n    }\n\n    .dataframe thead th {\n        text-align: right;\n    }\n</style>\n<table border=\"1\" class=\"dataframe\">\n  <thead>\n    <tr style=\"text-align: right;\">\n      <th></th>\n      <th>A</th>\n      <th>B</th>\n      <th>C</th>\n      <th>D</th>\n      <th>E</th>\n      <th>0</th>\n    </tr>\n  </thead>\n  <tbody>\n    <tr>\n      <th>0</th>\n      <td>654789.000000</td>\n      <td>0.790988</td>\n      <td>0.816955</td>\n      <td>0.515202</td>\n      <td>0.348768</td>\n      <td>654.0</td>\n    </tr>\n    <tr>\n      <th>1</th>\n      <td>0.369261</td>\n      <td>0.344447</td>\n      <td>0.594809</td>\n      <td>0.454023</td>\n      <td>0.055929</td>\n      <td>NaN</td>\n    </tr>\n    <tr>\n      <th>2</th>\n      <td>0.173050</td>\n      <td>0.759926</td>\n      <td>0.340533</td>\n      <td>0.212910</td>\n      <td>0.415925</td>\n      <td>NaN</td>\n    </tr>\n    <tr>\n      <th>3</th>\n      <td>0.032329</td>\n      <td>0.200028</td>\n      <td>0.146421</td>\n      <td>0.705052</td>\n      <td>0.083880</td>\n      <td>NaN</td>\n    </tr>\n    <tr>\n      <th>4</th>\n      <td>0.464154</td>\n      <td>0.677997</td>\n      <td>0.172498</td>\n      <td>0.127146</td>\n      <td>0.800099</td>\n      <td>NaN</td>\n    </tr>\n  </tbody>\n</table>\n</div>"
     },
     "metadata": {},
     "execution_count": 152
    }
   ],
   "source": [
    "df2.loc[0,0] = 654\n",
    "df2.loc[0,'A'] = 654789  \n",
    "df2.head()"
   ]
  },
  {
   "source": [
    "## To change all value of a column"
   ],
   "cell_type": "markdown",
   "metadata": {}
  },
  {
   "cell_type": "code",
   "execution_count": 153,
   "metadata": {},
   "outputs": [
    {
     "output_type": "execute_result",
     "data": {
      "text/plain": [
       "                 A         B         C         D         E     0\n",
       "0    654789.000000  0.790988  0.816955  0.515202  0.348768  None\n",
       "1         0.369261  0.344447  0.594809  0.454023  0.055929  None\n",
       "2         0.173050  0.759926  0.340533  0.212910  0.415925  None\n",
       "3         0.032329  0.200028  0.146421  0.705052  0.083880  None\n",
       "4         0.464154  0.677997  0.172498  0.127146  0.800099  None\n",
       "..             ...       ...       ...       ...       ...   ...\n",
       "329       0.671657  0.081046  0.333107  0.275409  0.663722  None\n",
       "330       0.675012  0.924776  0.168315  0.050523  0.527453  None\n",
       "331       0.512223  0.837488  0.521703  0.640452  0.693052  None\n",
       "332       0.818010  0.740888  0.294195  0.027468  0.482835  None\n",
       "333       0.341005  0.670629  0.081644  0.420035  0.849277  None\n",
       "\n",
       "[334 rows x 6 columns]"
      ],
      "text/html": "<div>\n<style scoped>\n    .dataframe tbody tr th:only-of-type {\n        vertical-align: middle;\n    }\n\n    .dataframe tbody tr th {\n        vertical-align: top;\n    }\n\n    .dataframe thead th {\n        text-align: right;\n    }\n</style>\n<table border=\"1\" class=\"dataframe\">\n  <thead>\n    <tr style=\"text-align: right;\">\n      <th></th>\n      <th>A</th>\n      <th>B</th>\n      <th>C</th>\n      <th>D</th>\n      <th>E</th>\n      <th>0</th>\n    </tr>\n  </thead>\n  <tbody>\n    <tr>\n      <th>0</th>\n      <td>654789.000000</td>\n      <td>0.790988</td>\n      <td>0.816955</td>\n      <td>0.515202</td>\n      <td>0.348768</td>\n      <td>None</td>\n    </tr>\n    <tr>\n      <th>1</th>\n      <td>0.369261</td>\n      <td>0.344447</td>\n      <td>0.594809</td>\n      <td>0.454023</td>\n      <td>0.055929</td>\n      <td>None</td>\n    </tr>\n    <tr>\n      <th>2</th>\n      <td>0.173050</td>\n      <td>0.759926</td>\n      <td>0.340533</td>\n      <td>0.212910</td>\n      <td>0.415925</td>\n      <td>None</td>\n    </tr>\n    <tr>\n      <th>3</th>\n      <td>0.032329</td>\n      <td>0.200028</td>\n      <td>0.146421</td>\n      <td>0.705052</td>\n      <td>0.083880</td>\n      <td>None</td>\n    </tr>\n    <tr>\n      <th>4</th>\n      <td>0.464154</td>\n      <td>0.677997</td>\n      <td>0.172498</td>\n      <td>0.127146</td>\n      <td>0.800099</td>\n      <td>None</td>\n    </tr>\n    <tr>\n      <th>...</th>\n      <td>...</td>\n      <td>...</td>\n      <td>...</td>\n      <td>...</td>\n      <td>...</td>\n      <td>...</td>\n    </tr>\n    <tr>\n      <th>329</th>\n      <td>0.671657</td>\n      <td>0.081046</td>\n      <td>0.333107</td>\n      <td>0.275409</td>\n      <td>0.663722</td>\n      <td>None</td>\n    </tr>\n    <tr>\n      <th>330</th>\n      <td>0.675012</td>\n      <td>0.924776</td>\n      <td>0.168315</td>\n      <td>0.050523</td>\n      <td>0.527453</td>\n      <td>None</td>\n    </tr>\n    <tr>\n      <th>331</th>\n      <td>0.512223</td>\n      <td>0.837488</td>\n      <td>0.521703</td>\n      <td>0.640452</td>\n      <td>0.693052</td>\n      <td>None</td>\n    </tr>\n    <tr>\n      <th>332</th>\n      <td>0.818010</td>\n      <td>0.740888</td>\n      <td>0.294195</td>\n      <td>0.027468</td>\n      <td>0.482835</td>\n      <td>None</td>\n    </tr>\n    <tr>\n      <th>333</th>\n      <td>0.341005</td>\n      <td>0.670629</td>\n      <td>0.081644</td>\n      <td>0.420035</td>\n      <td>0.849277</td>\n      <td>None</td>\n    </tr>\n  </tbody>\n</table>\n<p>334 rows × 6 columns</p>\n</div>"
     },
     "metadata": {},
     "execution_count": 153
    }
   ],
   "source": [
    "df2[0] = None\n",
    "df2"
   ]
  },
  {
   "cell_type": "code",
   "execution_count": 154,
   "metadata": {},
   "outputs": [
    {
     "output_type": "execute_result",
     "data": {
      "text/plain": [
       "                 A         B         C         D         E\n",
       "0    654789.000000  0.790988  0.816955  0.515202  0.348768\n",
       "1         0.369261  0.344447  0.594809  0.454023  0.055929\n",
       "2         0.173050  0.759926  0.340533  0.212910  0.415925\n",
       "3         0.032329  0.200028  0.146421  0.705052  0.083880\n",
       "4         0.464154  0.677997  0.172498  0.127146  0.800099\n",
       "..             ...       ...       ...       ...       ...\n",
       "329       0.671657  0.081046  0.333107  0.275409  0.663722\n",
       "330       0.675012  0.924776  0.168315  0.050523  0.527453\n",
       "331       0.512223  0.837488  0.521703  0.640452  0.693052\n",
       "332       0.818010  0.740888  0.294195  0.027468  0.482835\n",
       "333       0.341005  0.670629  0.081644  0.420035  0.849277\n",
       "\n",
       "[334 rows x 5 columns]"
      ],
      "text/html": "<div>\n<style scoped>\n    .dataframe tbody tr th:only-of-type {\n        vertical-align: middle;\n    }\n\n    .dataframe tbody tr th {\n        vertical-align: top;\n    }\n\n    .dataframe thead th {\n        text-align: right;\n    }\n</style>\n<table border=\"1\" class=\"dataframe\">\n  <thead>\n    <tr style=\"text-align: right;\">\n      <th></th>\n      <th>A</th>\n      <th>B</th>\n      <th>C</th>\n      <th>D</th>\n      <th>E</th>\n    </tr>\n  </thead>\n  <tbody>\n    <tr>\n      <th>0</th>\n      <td>654789.000000</td>\n      <td>0.790988</td>\n      <td>0.816955</td>\n      <td>0.515202</td>\n      <td>0.348768</td>\n    </tr>\n    <tr>\n      <th>1</th>\n      <td>0.369261</td>\n      <td>0.344447</td>\n      <td>0.594809</td>\n      <td>0.454023</td>\n      <td>0.055929</td>\n    </tr>\n    <tr>\n      <th>2</th>\n      <td>0.173050</td>\n      <td>0.759926</td>\n      <td>0.340533</td>\n      <td>0.212910</td>\n      <td>0.415925</td>\n    </tr>\n    <tr>\n      <th>3</th>\n      <td>0.032329</td>\n      <td>0.200028</td>\n      <td>0.146421</td>\n      <td>0.705052</td>\n      <td>0.083880</td>\n    </tr>\n    <tr>\n      <th>4</th>\n      <td>0.464154</td>\n      <td>0.677997</td>\n      <td>0.172498</td>\n      <td>0.127146</td>\n      <td>0.800099</td>\n    </tr>\n    <tr>\n      <th>...</th>\n      <td>...</td>\n      <td>...</td>\n      <td>...</td>\n      <td>...</td>\n      <td>...</td>\n    </tr>\n    <tr>\n      <th>329</th>\n      <td>0.671657</td>\n      <td>0.081046</td>\n      <td>0.333107</td>\n      <td>0.275409</td>\n      <td>0.663722</td>\n    </tr>\n    <tr>\n      <th>330</th>\n      <td>0.675012</td>\n      <td>0.924776</td>\n      <td>0.168315</td>\n      <td>0.050523</td>\n      <td>0.527453</td>\n    </tr>\n    <tr>\n      <th>331</th>\n      <td>0.512223</td>\n      <td>0.837488</td>\n      <td>0.521703</td>\n      <td>0.640452</td>\n      <td>0.693052</td>\n    </tr>\n    <tr>\n      <th>332</th>\n      <td>0.818010</td>\n      <td>0.740888</td>\n      <td>0.294195</td>\n      <td>0.027468</td>\n      <td>0.482835</td>\n    </tr>\n    <tr>\n      <th>333</th>\n      <td>0.341005</td>\n      <td>0.670629</td>\n      <td>0.081644</td>\n      <td>0.420035</td>\n      <td>0.849277</td>\n    </tr>\n  </tbody>\n</table>\n<p>334 rows × 5 columns</p>\n</div>"
     },
     "metadata": {},
     "execution_count": 154
    }
   ],
   "source": [
    "df2 = df2.drop(0 , axis=1) # To delete a column in a dataframe , for rows put axis = 0\n",
    "df2"
   ]
  },
  {
   "cell_type": "code",
   "execution_count": 155,
   "metadata": {},
   "outputs": [
    {
     "output_type": "execute_result",
     "data": {
      "text/plain": [
       "            A         B         C         D         E\n",
       "1    0.369261  0.344447  0.594809  0.454023  0.055929\n",
       "2    0.173050  0.759926  0.340533  0.212910  0.415925\n",
       "3    0.032329  0.200028  0.146421  0.705052  0.083880\n",
       "4    0.464154  0.677997  0.172498  0.127146  0.800099\n",
       "5    0.431176  0.419692  0.052647  0.451053  0.582615\n",
       "..        ...       ...       ...       ...       ...\n",
       "329  0.671657  0.081046  0.333107  0.275409  0.663722\n",
       "330  0.675012  0.924776  0.168315  0.050523  0.527453\n",
       "331  0.512223  0.837488  0.521703  0.640452  0.693052\n",
       "332  0.818010  0.740888  0.294195  0.027468  0.482835\n",
       "333  0.341005  0.670629  0.081644  0.420035  0.849277\n",
       "\n",
       "[333 rows x 5 columns]"
      ],
      "text/html": "<div>\n<style scoped>\n    .dataframe tbody tr th:only-of-type {\n        vertical-align: middle;\n    }\n\n    .dataframe tbody tr th {\n        vertical-align: top;\n    }\n\n    .dataframe thead th {\n        text-align: right;\n    }\n</style>\n<table border=\"1\" class=\"dataframe\">\n  <thead>\n    <tr style=\"text-align: right;\">\n      <th></th>\n      <th>A</th>\n      <th>B</th>\n      <th>C</th>\n      <th>D</th>\n      <th>E</th>\n    </tr>\n  </thead>\n  <tbody>\n    <tr>\n      <th>1</th>\n      <td>0.369261</td>\n      <td>0.344447</td>\n      <td>0.594809</td>\n      <td>0.454023</td>\n      <td>0.055929</td>\n    </tr>\n    <tr>\n      <th>2</th>\n      <td>0.173050</td>\n      <td>0.759926</td>\n      <td>0.340533</td>\n      <td>0.212910</td>\n      <td>0.415925</td>\n    </tr>\n    <tr>\n      <th>3</th>\n      <td>0.032329</td>\n      <td>0.200028</td>\n      <td>0.146421</td>\n      <td>0.705052</td>\n      <td>0.083880</td>\n    </tr>\n    <tr>\n      <th>4</th>\n      <td>0.464154</td>\n      <td>0.677997</td>\n      <td>0.172498</td>\n      <td>0.127146</td>\n      <td>0.800099</td>\n    </tr>\n    <tr>\n      <th>5</th>\n      <td>0.431176</td>\n      <td>0.419692</td>\n      <td>0.052647</td>\n      <td>0.451053</td>\n      <td>0.582615</td>\n    </tr>\n    <tr>\n      <th>...</th>\n      <td>...</td>\n      <td>...</td>\n      <td>...</td>\n      <td>...</td>\n      <td>...</td>\n    </tr>\n    <tr>\n      <th>329</th>\n      <td>0.671657</td>\n      <td>0.081046</td>\n      <td>0.333107</td>\n      <td>0.275409</td>\n      <td>0.663722</td>\n    </tr>\n    <tr>\n      <th>330</th>\n      <td>0.675012</td>\n      <td>0.924776</td>\n      <td>0.168315</td>\n      <td>0.050523</td>\n      <td>0.527453</td>\n    </tr>\n    <tr>\n      <th>331</th>\n      <td>0.512223</td>\n      <td>0.837488</td>\n      <td>0.521703</td>\n      <td>0.640452</td>\n      <td>0.693052</td>\n    </tr>\n    <tr>\n      <th>332</th>\n      <td>0.818010</td>\n      <td>0.740888</td>\n      <td>0.294195</td>\n      <td>0.027468</td>\n      <td>0.482835</td>\n    </tr>\n    <tr>\n      <th>333</th>\n      <td>0.341005</td>\n      <td>0.670629</td>\n      <td>0.081644</td>\n      <td>0.420035</td>\n      <td>0.849277</td>\n    </tr>\n  </tbody>\n</table>\n<p>333 rows × 5 columns</p>\n</div>"
     },
     "metadata": {},
     "execution_count": 155
    }
   ],
   "source": [
    "# to delete selective rows\n",
    "df2 = df2[~(df2.A > 1)]\n",
    "df2"
   ]
  },
  {
   "cell_type": "code",
   "execution_count": 156,
   "metadata": {},
   "outputs": [
    {
     "output_type": "execute_result",
     "data": {
      "text/plain": [
       "          A         B         C         D         E\n",
       "1  0.369261  0.344447  0.594809  0.454023  0.055929\n",
       "2  0.173050  0.759926  0.340533  0.212910  0.415925"
      ],
      "text/html": "<div>\n<style scoped>\n    .dataframe tbody tr th:only-of-type {\n        vertical-align: middle;\n    }\n\n    .dataframe tbody tr th {\n        vertical-align: top;\n    }\n\n    .dataframe thead th {\n        text-align: right;\n    }\n</style>\n<table border=\"1\" class=\"dataframe\">\n  <thead>\n    <tr style=\"text-align: right;\">\n      <th></th>\n      <th>A</th>\n      <th>B</th>\n      <th>C</th>\n      <th>D</th>\n      <th>E</th>\n    </tr>\n  </thead>\n  <tbody>\n    <tr>\n      <th>1</th>\n      <td>0.369261</td>\n      <td>0.344447</td>\n      <td>0.594809</td>\n      <td>0.454023</td>\n      <td>0.055929</td>\n    </tr>\n    <tr>\n      <th>2</th>\n      <td>0.173050</td>\n      <td>0.759926</td>\n      <td>0.340533</td>\n      <td>0.212910</td>\n      <td>0.415925</td>\n    </tr>\n  </tbody>\n</table>\n</div>"
     },
     "metadata": {},
     "execution_count": 156
    }
   ],
   "source": [
    "df2.loc[[1,2],:]"
   ]
  },
  {
   "cell_type": "code",
   "execution_count": 157,
   "metadata": {},
   "outputs": [
    {
     "output_type": "execute_result",
     "data": {
      "text/plain": [
       "            A         B         C         D         E\n",
       "2    0.173050  0.759926  0.340533  0.212910  0.415925\n",
       "3    0.032329  0.200028  0.146421  0.705052  0.083880\n",
       "7    0.202698  0.114420  0.227797  0.041946  0.961846\n",
       "20   0.017576  0.776549  0.794251  0.469509  0.255454\n",
       "24   0.178367  0.014322  0.714689  0.836251  0.688511\n",
       "..        ...       ...       ...       ...       ...\n",
       "302  0.071848  0.212847  0.896676  0.303203  0.806676\n",
       "304  0.216683  0.873060  0.736681  0.020481  0.672616\n",
       "305  0.275824  0.099638  0.583479  0.493263  0.467765\n",
       "322  0.073963  0.922812  0.391307  0.945057  0.661233\n",
       "323  0.106551  0.598067  0.226470  0.845121  0.310030\n",
       "\n",
       "[100 rows x 5 columns]"
      ],
      "text/html": "<div>\n<style scoped>\n    .dataframe tbody tr th:only-of-type {\n        vertical-align: middle;\n    }\n\n    .dataframe tbody tr th {\n        vertical-align: top;\n    }\n\n    .dataframe thead th {\n        text-align: right;\n    }\n</style>\n<table border=\"1\" class=\"dataframe\">\n  <thead>\n    <tr style=\"text-align: right;\">\n      <th></th>\n      <th>A</th>\n      <th>B</th>\n      <th>C</th>\n      <th>D</th>\n      <th>E</th>\n    </tr>\n  </thead>\n  <tbody>\n    <tr>\n      <th>2</th>\n      <td>0.173050</td>\n      <td>0.759926</td>\n      <td>0.340533</td>\n      <td>0.212910</td>\n      <td>0.415925</td>\n    </tr>\n    <tr>\n      <th>3</th>\n      <td>0.032329</td>\n      <td>0.200028</td>\n      <td>0.146421</td>\n      <td>0.705052</td>\n      <td>0.083880</td>\n    </tr>\n    <tr>\n      <th>7</th>\n      <td>0.202698</td>\n      <td>0.114420</td>\n      <td>0.227797</td>\n      <td>0.041946</td>\n      <td>0.961846</td>\n    </tr>\n    <tr>\n      <th>20</th>\n      <td>0.017576</td>\n      <td>0.776549</td>\n      <td>0.794251</td>\n      <td>0.469509</td>\n      <td>0.255454</td>\n    </tr>\n    <tr>\n      <th>24</th>\n      <td>0.178367</td>\n      <td>0.014322</td>\n      <td>0.714689</td>\n      <td>0.836251</td>\n      <td>0.688511</td>\n    </tr>\n    <tr>\n      <th>...</th>\n      <td>...</td>\n      <td>...</td>\n      <td>...</td>\n      <td>...</td>\n      <td>...</td>\n    </tr>\n    <tr>\n      <th>302</th>\n      <td>0.071848</td>\n      <td>0.212847</td>\n      <td>0.896676</td>\n      <td>0.303203</td>\n      <td>0.806676</td>\n    </tr>\n    <tr>\n      <th>304</th>\n      <td>0.216683</td>\n      <td>0.873060</td>\n      <td>0.736681</td>\n      <td>0.020481</td>\n      <td>0.672616</td>\n    </tr>\n    <tr>\n      <th>305</th>\n      <td>0.275824</td>\n      <td>0.099638</td>\n      <td>0.583479</td>\n      <td>0.493263</td>\n      <td>0.467765</td>\n    </tr>\n    <tr>\n      <th>322</th>\n      <td>0.073963</td>\n      <td>0.922812</td>\n      <td>0.391307</td>\n      <td>0.945057</td>\n      <td>0.661233</td>\n    </tr>\n    <tr>\n      <th>323</th>\n      <td>0.106551</td>\n      <td>0.598067</td>\n      <td>0.226470</td>\n      <td>0.845121</td>\n      <td>0.310030</td>\n    </tr>\n  </tbody>\n</table>\n<p>100 rows × 5 columns</p>\n</div>"
     },
     "metadata": {},
     "execution_count": 157
    }
   ],
   "source": [
    "df2.loc[(df2['A']<0.3) & (df2['C']>0.1)]  # it gives all values satisfied given condition"
   ]
  },
  {
   "cell_type": "code",
   "execution_count": 158,
   "metadata": {},
   "outputs": [
    {
     "output_type": "execute_result",
     "data": {
      "text/plain": [
       "          A         B         C         D         E\n",
       "1  0.369261  0.344447  0.594809  0.454023  0.055929\n",
       "2  0.173050  0.759926  0.340533  0.212910  0.415925\n",
       "3  0.032329  0.200028  0.146421  0.705052  0.083880"
      ],
      "text/html": "<div>\n<style scoped>\n    .dataframe tbody tr th:only-of-type {\n        vertical-align: middle;\n    }\n\n    .dataframe tbody tr th {\n        vertical-align: top;\n    }\n\n    .dataframe thead th {\n        text-align: right;\n    }\n</style>\n<table border=\"1\" class=\"dataframe\">\n  <thead>\n    <tr style=\"text-align: right;\">\n      <th></th>\n      <th>A</th>\n      <th>B</th>\n      <th>C</th>\n      <th>D</th>\n      <th>E</th>\n    </tr>\n  </thead>\n  <tbody>\n    <tr>\n      <th>1</th>\n      <td>0.369261</td>\n      <td>0.344447</td>\n      <td>0.594809</td>\n      <td>0.454023</td>\n      <td>0.055929</td>\n    </tr>\n    <tr>\n      <th>2</th>\n      <td>0.173050</td>\n      <td>0.759926</td>\n      <td>0.340533</td>\n      <td>0.212910</td>\n      <td>0.415925</td>\n    </tr>\n    <tr>\n      <th>3</th>\n      <td>0.032329</td>\n      <td>0.200028</td>\n      <td>0.146421</td>\n      <td>0.705052</td>\n      <td>0.083880</td>\n    </tr>\n  </tbody>\n</table>\n</div>"
     },
     "metadata": {},
     "execution_count": 158
    }
   ],
   "source": [
    "df2.head(3)"
   ]
  },
  {
   "source": [
    "# 9. iloc function"
   ],
   "cell_type": "markdown",
   "metadata": {}
  },
  {
   "cell_type": "code",
   "execution_count": 159,
   "metadata": {},
   "outputs": [
    {
     "output_type": "execute_result",
     "data": {
      "text/plain": [
       "0.055929091071674764"
      ]
     },
     "metadata": {},
     "execution_count": 159
    }
   ],
   "source": [
    "df2.iloc[0,4]"
   ]
  },
  {
   "cell_type": "code",
   "execution_count": 160,
   "metadata": {},
   "outputs": [
    {
     "output_type": "execute_result",
     "data": {
      "text/plain": [
       "          B         C\n",
       "1  0.344447  0.594809\n",
       "6  0.149652  0.230062"
      ],
      "text/html": "<div>\n<style scoped>\n    .dataframe tbody tr th:only-of-type {\n        vertical-align: middle;\n    }\n\n    .dataframe tbody tr th {\n        vertical-align: top;\n    }\n\n    .dataframe thead th {\n        text-align: right;\n    }\n</style>\n<table border=\"1\" class=\"dataframe\">\n  <thead>\n    <tr style=\"text-align: right;\">\n      <th></th>\n      <th>B</th>\n      <th>C</th>\n    </tr>\n  </thead>\n  <tbody>\n    <tr>\n      <th>1</th>\n      <td>0.344447</td>\n      <td>0.594809</td>\n    </tr>\n    <tr>\n      <th>6</th>\n      <td>0.149652</td>\n      <td>0.230062</td>\n    </tr>\n  </tbody>\n</table>\n</div>"
     },
     "metadata": {},
     "execution_count": 160
    }
   ],
   "source": [
    "df2.iloc[[0,5] , [1,2]]"
   ]
  },
  {
   "cell_type": "code",
   "execution_count": 161,
   "metadata": {},
   "outputs": [
    {
     "output_type": "execute_result",
     "data": {
      "text/plain": [
       "            A         B         C         D         E\n",
       "1    0.369261  0.344447  0.594809  0.454023  0.055929\n",
       "2    0.173050  0.759926  0.340533  0.212910  0.415925\n",
       "3    0.032329  0.200028  0.146421  0.705052  0.083880\n",
       "4    0.464154  0.677997  0.172498  0.127146  0.800099\n",
       "5    0.431176  0.419692  0.052647  0.451053  0.582615\n",
       "..        ...       ...       ...       ...       ...\n",
       "329  0.671657  0.081046  0.333107  0.275409  0.663722\n",
       "330  0.675012  0.924776  0.168315  0.050523  0.527453\n",
       "331  0.512223  0.837488  0.521703  0.640452  0.693052\n",
       "332  0.818010  0.740888  0.294195  0.027468  0.482835\n",
       "333  0.341005  0.670629  0.081644  0.420035  0.849277\n",
       "\n",
       "[332 rows x 5 columns]"
      ],
      "text/html": "<div>\n<style scoped>\n    .dataframe tbody tr th:only-of-type {\n        vertical-align: middle;\n    }\n\n    .dataframe tbody tr th {\n        vertical-align: top;\n    }\n\n    .dataframe thead th {\n        text-align: right;\n    }\n</style>\n<table border=\"1\" class=\"dataframe\">\n  <thead>\n    <tr style=\"text-align: right;\">\n      <th></th>\n      <th>A</th>\n      <th>B</th>\n      <th>C</th>\n      <th>D</th>\n      <th>E</th>\n    </tr>\n  </thead>\n  <tbody>\n    <tr>\n      <th>1</th>\n      <td>0.369261</td>\n      <td>0.344447</td>\n      <td>0.594809</td>\n      <td>0.454023</td>\n      <td>0.055929</td>\n    </tr>\n    <tr>\n      <th>2</th>\n      <td>0.173050</td>\n      <td>0.759926</td>\n      <td>0.340533</td>\n      <td>0.212910</td>\n      <td>0.415925</td>\n    </tr>\n    <tr>\n      <th>3</th>\n      <td>0.032329</td>\n      <td>0.200028</td>\n      <td>0.146421</td>\n      <td>0.705052</td>\n      <td>0.083880</td>\n    </tr>\n    <tr>\n      <th>4</th>\n      <td>0.464154</td>\n      <td>0.677997</td>\n      <td>0.172498</td>\n      <td>0.127146</td>\n      <td>0.800099</td>\n    </tr>\n    <tr>\n      <th>5</th>\n      <td>0.431176</td>\n      <td>0.419692</td>\n      <td>0.052647</td>\n      <td>0.451053</td>\n      <td>0.582615</td>\n    </tr>\n    <tr>\n      <th>...</th>\n      <td>...</td>\n      <td>...</td>\n      <td>...</td>\n      <td>...</td>\n      <td>...</td>\n    </tr>\n    <tr>\n      <th>329</th>\n      <td>0.671657</td>\n      <td>0.081046</td>\n      <td>0.333107</td>\n      <td>0.275409</td>\n      <td>0.663722</td>\n    </tr>\n    <tr>\n      <th>330</th>\n      <td>0.675012</td>\n      <td>0.924776</td>\n      <td>0.168315</td>\n      <td>0.050523</td>\n      <td>0.527453</td>\n    </tr>\n    <tr>\n      <th>331</th>\n      <td>0.512223</td>\n      <td>0.837488</td>\n      <td>0.521703</td>\n      <td>0.640452</td>\n      <td>0.693052</td>\n    </tr>\n    <tr>\n      <th>332</th>\n      <td>0.818010</td>\n      <td>0.740888</td>\n      <td>0.294195</td>\n      <td>0.027468</td>\n      <td>0.482835</td>\n    </tr>\n    <tr>\n      <th>333</th>\n      <td>0.341005</td>\n      <td>0.670629</td>\n      <td>0.081644</td>\n      <td>0.420035</td>\n      <td>0.849277</td>\n    </tr>\n  </tbody>\n</table>\n<p>332 rows × 5 columns</p>\n</div>"
     },
     "metadata": {},
     "execution_count": 161
    }
   ],
   "source": [
    "df2.drop([10])"
   ]
  },
  {
   "cell_type": "code",
   "execution_count": 162,
   "metadata": {},
   "outputs": [
    {
     "output_type": "stream",
     "name": "stderr",
     "text": [
      "C:\\Python3.9\\lib\\site-packages\\pandas\\core\\frame.py:4308: SettingWithCopyWarning: \nA value is trying to be set on a copy of a slice from a DataFrame\n\nSee the caveats in the documentation: https://pandas.pydata.org/pandas-docs/stable/user_guide/indexing.html#returning-a-view-versus-a-copy\n  return super().drop(\n"
     ]
    }
   ],
   "source": [
    "df2.drop([1,5], axis=0, inplace = True) # it make changes in real df2 dataframe"
   ]
  },
  {
   "cell_type": "code",
   "execution_count": 163,
   "metadata": {},
   "outputs": [
    {
     "output_type": "execute_result",
     "data": {
      "text/plain": [
       "            A         B         C         D         E\n",
       "2    0.173050  0.759926  0.340533  0.212910  0.415925\n",
       "3    0.032329  0.200028  0.146421  0.705052  0.083880\n",
       "4    0.464154  0.677997  0.172498  0.127146  0.800099\n",
       "6    0.305906  0.149652  0.230062  0.936771  0.995378\n",
       "7    0.202698  0.114420  0.227797  0.041946  0.961846\n",
       "..        ...       ...       ...       ...       ...\n",
       "329  0.671657  0.081046  0.333107  0.275409  0.663722\n",
       "330  0.675012  0.924776  0.168315  0.050523  0.527453\n",
       "331  0.512223  0.837488  0.521703  0.640452  0.693052\n",
       "332  0.818010  0.740888  0.294195  0.027468  0.482835\n",
       "333  0.341005  0.670629  0.081644  0.420035  0.849277\n",
       "\n",
       "[331 rows x 5 columns]"
      ],
      "text/html": "<div>\n<style scoped>\n    .dataframe tbody tr th:only-of-type {\n        vertical-align: middle;\n    }\n\n    .dataframe tbody tr th {\n        vertical-align: top;\n    }\n\n    .dataframe thead th {\n        text-align: right;\n    }\n</style>\n<table border=\"1\" class=\"dataframe\">\n  <thead>\n    <tr style=\"text-align: right;\">\n      <th></th>\n      <th>A</th>\n      <th>B</th>\n      <th>C</th>\n      <th>D</th>\n      <th>E</th>\n    </tr>\n  </thead>\n  <tbody>\n    <tr>\n      <th>2</th>\n      <td>0.173050</td>\n      <td>0.759926</td>\n      <td>0.340533</td>\n      <td>0.212910</td>\n      <td>0.415925</td>\n    </tr>\n    <tr>\n      <th>3</th>\n      <td>0.032329</td>\n      <td>0.200028</td>\n      <td>0.146421</td>\n      <td>0.705052</td>\n      <td>0.083880</td>\n    </tr>\n    <tr>\n      <th>4</th>\n      <td>0.464154</td>\n      <td>0.677997</td>\n      <td>0.172498</td>\n      <td>0.127146</td>\n      <td>0.800099</td>\n    </tr>\n    <tr>\n      <th>6</th>\n      <td>0.305906</td>\n      <td>0.149652</td>\n      <td>0.230062</td>\n      <td>0.936771</td>\n      <td>0.995378</td>\n    </tr>\n    <tr>\n      <th>7</th>\n      <td>0.202698</td>\n      <td>0.114420</td>\n      <td>0.227797</td>\n      <td>0.041946</td>\n      <td>0.961846</td>\n    </tr>\n    <tr>\n      <th>...</th>\n      <td>...</td>\n      <td>...</td>\n      <td>...</td>\n      <td>...</td>\n      <td>...</td>\n    </tr>\n    <tr>\n      <th>329</th>\n      <td>0.671657</td>\n      <td>0.081046</td>\n      <td>0.333107</td>\n      <td>0.275409</td>\n      <td>0.663722</td>\n    </tr>\n    <tr>\n      <th>330</th>\n      <td>0.675012</td>\n      <td>0.924776</td>\n      <td>0.168315</td>\n      <td>0.050523</td>\n      <td>0.527453</td>\n    </tr>\n    <tr>\n      <th>331</th>\n      <td>0.512223</td>\n      <td>0.837488</td>\n      <td>0.521703</td>\n      <td>0.640452</td>\n      <td>0.693052</td>\n    </tr>\n    <tr>\n      <th>332</th>\n      <td>0.818010</td>\n      <td>0.740888</td>\n      <td>0.294195</td>\n      <td>0.027468</td>\n      <td>0.482835</td>\n    </tr>\n    <tr>\n      <th>333</th>\n      <td>0.341005</td>\n      <td>0.670629</td>\n      <td>0.081644</td>\n      <td>0.420035</td>\n      <td>0.849277</td>\n    </tr>\n  </tbody>\n</table>\n<p>331 rows × 5 columns</p>\n</div>"
     },
     "metadata": {},
     "execution_count": 163
    }
   ],
   "source": [
    "df2"
   ]
  },
  {
   "source": [
    "# 10. To Resest Dataframe Index"
   ],
   "cell_type": "markdown",
   "metadata": {}
  },
  {
   "cell_type": "code",
   "execution_count": 164,
   "metadata": {},
   "outputs": [
    {
     "output_type": "execute_result",
     "data": {
      "text/plain": [
       "            A         B         C         D         E\n",
       "0    0.173050  0.759926  0.340533  0.212910  0.415925\n",
       "1    0.032329  0.200028  0.146421  0.705052  0.083880\n",
       "2    0.464154  0.677997  0.172498  0.127146  0.800099\n",
       "3    0.305906  0.149652  0.230062  0.936771  0.995378\n",
       "4    0.202698  0.114420  0.227797  0.041946  0.961846\n",
       "..        ...       ...       ...       ...       ...\n",
       "326  0.671657  0.081046  0.333107  0.275409  0.663722\n",
       "327  0.675012  0.924776  0.168315  0.050523  0.527453\n",
       "328  0.512223  0.837488  0.521703  0.640452  0.693052\n",
       "329  0.818010  0.740888  0.294195  0.027468  0.482835\n",
       "330  0.341005  0.670629  0.081644  0.420035  0.849277\n",
       "\n",
       "[331 rows x 5 columns]"
      ],
      "text/html": "<div>\n<style scoped>\n    .dataframe tbody tr th:only-of-type {\n        vertical-align: middle;\n    }\n\n    .dataframe tbody tr th {\n        vertical-align: top;\n    }\n\n    .dataframe thead th {\n        text-align: right;\n    }\n</style>\n<table border=\"1\" class=\"dataframe\">\n  <thead>\n    <tr style=\"text-align: right;\">\n      <th></th>\n      <th>A</th>\n      <th>B</th>\n      <th>C</th>\n      <th>D</th>\n      <th>E</th>\n    </tr>\n  </thead>\n  <tbody>\n    <tr>\n      <th>0</th>\n      <td>0.173050</td>\n      <td>0.759926</td>\n      <td>0.340533</td>\n      <td>0.212910</td>\n      <td>0.415925</td>\n    </tr>\n    <tr>\n      <th>1</th>\n      <td>0.032329</td>\n      <td>0.200028</td>\n      <td>0.146421</td>\n      <td>0.705052</td>\n      <td>0.083880</td>\n    </tr>\n    <tr>\n      <th>2</th>\n      <td>0.464154</td>\n      <td>0.677997</td>\n      <td>0.172498</td>\n      <td>0.127146</td>\n      <td>0.800099</td>\n    </tr>\n    <tr>\n      <th>3</th>\n      <td>0.305906</td>\n      <td>0.149652</td>\n      <td>0.230062</td>\n      <td>0.936771</td>\n      <td>0.995378</td>\n    </tr>\n    <tr>\n      <th>4</th>\n      <td>0.202698</td>\n      <td>0.114420</td>\n      <td>0.227797</td>\n      <td>0.041946</td>\n      <td>0.961846</td>\n    </tr>\n    <tr>\n      <th>...</th>\n      <td>...</td>\n      <td>...</td>\n      <td>...</td>\n      <td>...</td>\n      <td>...</td>\n    </tr>\n    <tr>\n      <th>326</th>\n      <td>0.671657</td>\n      <td>0.081046</td>\n      <td>0.333107</td>\n      <td>0.275409</td>\n      <td>0.663722</td>\n    </tr>\n    <tr>\n      <th>327</th>\n      <td>0.675012</td>\n      <td>0.924776</td>\n      <td>0.168315</td>\n      <td>0.050523</td>\n      <td>0.527453</td>\n    </tr>\n    <tr>\n      <th>328</th>\n      <td>0.512223</td>\n      <td>0.837488</td>\n      <td>0.521703</td>\n      <td>0.640452</td>\n      <td>0.693052</td>\n    </tr>\n    <tr>\n      <th>329</th>\n      <td>0.818010</td>\n      <td>0.740888</td>\n      <td>0.294195</td>\n      <td>0.027468</td>\n      <td>0.482835</td>\n    </tr>\n    <tr>\n      <th>330</th>\n      <td>0.341005</td>\n      <td>0.670629</td>\n      <td>0.081644</td>\n      <td>0.420035</td>\n      <td>0.849277</td>\n    </tr>\n  </tbody>\n</table>\n<p>331 rows × 5 columns</p>\n</div>"
     },
     "metadata": {},
     "execution_count": 164
    }
   ],
   "source": [
    "df2.reset_index(drop=True , inplace=True)  # it reset index no.\n",
    "df2"
   ]
  },
  {
   "source": [
    "# 11. opertion of Null spaces in DataFrame"
   ],
   "cell_type": "markdown",
   "metadata": {}
  },
  {
   "cell_type": "code",
   "execution_count": 165,
   "metadata": {},
   "outputs": [
    {
     "output_type": "execute_result",
     "data": {
      "text/plain": [
       "         EST  Temperature  DewPoint  Humidity  Sea Level PressureIn  \\\n",
       "0 2016-01-01           38        23        54                 30.03   \n",
       "1 2016-01-02           36        18        46                 30.02   \n",
       "2 2016-01-03           40        21        47                 29.86   \n",
       "3 2016-01-04           25         9        44                 30.05   \n",
       "4 2016-01-05           20        -3        41                 30.57   \n",
       "5 2016-01-06           33         4        35                 30.50   \n",
       "\n",
       "   VisibilityMiles  WindSpeedMPH  PrecipitationIn  CloudCover Events  \\\n",
       "0               10           8.0              0.0           5    NaN   \n",
       "1               10           7.0              0.0           3    NaN   \n",
       "2               10           8.0              0.0           1    NaN   \n",
       "3               10           9.0              0.0           3    NaN   \n",
       "4               10           5.0              0.0           0    NaN   \n",
       "5               10           4.0              0.0           0    NaN   \n",
       "\n",
       "   WindDirDegrees  \n",
       "0             281  \n",
       "1             275  \n",
       "2             277  \n",
       "3             345  \n",
       "4             333  \n",
       "5             259  "
      ],
      "text/html": "<div>\n<style scoped>\n    .dataframe tbody tr th:only-of-type {\n        vertical-align: middle;\n    }\n\n    .dataframe tbody tr th {\n        vertical-align: top;\n    }\n\n    .dataframe thead th {\n        text-align: right;\n    }\n</style>\n<table border=\"1\" class=\"dataframe\">\n  <thead>\n    <tr style=\"text-align: right;\">\n      <th></th>\n      <th>EST</th>\n      <th>Temperature</th>\n      <th>DewPoint</th>\n      <th>Humidity</th>\n      <th>Sea Level PressureIn</th>\n      <th>VisibilityMiles</th>\n      <th>WindSpeedMPH</th>\n      <th>PrecipitationIn</th>\n      <th>CloudCover</th>\n      <th>Events</th>\n      <th>WindDirDegrees</th>\n    </tr>\n  </thead>\n  <tbody>\n    <tr>\n      <th>0</th>\n      <td>2016-01-01</td>\n      <td>38</td>\n      <td>23</td>\n      <td>54</td>\n      <td>30.03</td>\n      <td>10</td>\n      <td>8.0</td>\n      <td>0.0</td>\n      <td>5</td>\n      <td>NaN</td>\n      <td>281</td>\n    </tr>\n    <tr>\n      <th>1</th>\n      <td>2016-01-02</td>\n      <td>36</td>\n      <td>18</td>\n      <td>46</td>\n      <td>30.02</td>\n      <td>10</td>\n      <td>7.0</td>\n      <td>0.0</td>\n      <td>3</td>\n      <td>NaN</td>\n      <td>275</td>\n    </tr>\n    <tr>\n      <th>2</th>\n      <td>2016-01-03</td>\n      <td>40</td>\n      <td>21</td>\n      <td>47</td>\n      <td>29.86</td>\n      <td>10</td>\n      <td>8.0</td>\n      <td>0.0</td>\n      <td>1</td>\n      <td>NaN</td>\n      <td>277</td>\n    </tr>\n    <tr>\n      <th>3</th>\n      <td>2016-01-04</td>\n      <td>25</td>\n      <td>9</td>\n      <td>44</td>\n      <td>30.05</td>\n      <td>10</td>\n      <td>9.0</td>\n      <td>0.0</td>\n      <td>3</td>\n      <td>NaN</td>\n      <td>345</td>\n    </tr>\n    <tr>\n      <th>4</th>\n      <td>2016-01-05</td>\n      <td>20</td>\n      <td>-3</td>\n      <td>41</td>\n      <td>30.57</td>\n      <td>10</td>\n      <td>5.0</td>\n      <td>0.0</td>\n      <td>0</td>\n      <td>NaN</td>\n      <td>333</td>\n    </tr>\n    <tr>\n      <th>5</th>\n      <td>2016-01-06</td>\n      <td>33</td>\n      <td>4</td>\n      <td>35</td>\n      <td>30.50</td>\n      <td>10</td>\n      <td>4.0</td>\n      <td>0.0</td>\n      <td>0</td>\n      <td>NaN</td>\n      <td>259</td>\n    </tr>\n  </tbody>\n</table>\n</div>"
     },
     "metadata": {},
     "execution_count": 165
    }
   ],
   "source": [
    "harry.head(6)"
   ]
  },
  {
   "cell_type": "code",
   "execution_count": 166,
   "metadata": {},
   "outputs": [
    {
     "output_type": "execute_result",
     "data": {
      "text/plain": [
       "0     False\n",
       "1     False\n",
       "2     False\n",
       "3     False\n",
       "4     False\n",
       "5     False\n",
       "6     False\n",
       "7     False\n",
       "8     False\n",
       "9      True\n",
       "10     True\n",
       "11    False\n",
       "12    False\n",
       "13    False\n",
       "14    False\n",
       "15    False\n",
       "16    False\n",
       "17    False\n",
       "18    False\n",
       "19    False\n",
       "20    False\n",
       "21     True\n",
       "22    False\n",
       "23    False\n",
       "24    False\n",
       "25    False\n",
       "26    False\n",
       "27    False\n",
       "28    False\n",
       "29    False\n",
       "30    False\n",
       "Name: WindSpeedMPH, dtype: bool"
      ]
     },
     "metadata": {},
     "execution_count": 166
    }
   ],
   "source": [
    "harry['WindSpeedMPH'].isnull()"
   ]
  },
  {
   "cell_type": "code",
   "execution_count": 167,
   "metadata": {},
   "outputs": [],
   "source": [
    "# harry = harry.fillna(0)  # it fill all null places with 0 , but not very usefull for all the columns\n",
    "# harry"
   ]
  },
  {
   "cell_type": "code",
   "execution_count": 168,
   "metadata": {},
   "outputs": [
    {
     "output_type": "execute_result",
     "data": {
      "text/plain": [
       "         EST  Temperature  DewPoint  Humidity  Sea Level PressureIn  \\\n",
       "0 2016-01-01           38        23        54                 30.03   \n",
       "1 2016-01-02           36        18        46                 30.02   \n",
       "2 2016-01-03           40        21        47                 29.86   \n",
       "3 2016-01-04           25         9        44                 30.05   \n",
       "4 2016-01-05           20        -3        41                 30.57   \n",
       "5 2016-01-06           33         4        35                 30.50   \n",
       "6 2016-01-07           39        11        33                 30.28   \n",
       "7 2016-01-08           39        29        64                 30.20   \n",
       "8 2016-01-09           44        38        77                 30.16   \n",
       "9 2016-01-10           50        46        71                 29.59   \n",
       "\n",
       "   VisibilityMiles  WindSpeedMPH  PrecipitationIn  CloudCover    Events  \\\n",
       "0               10           8.0              0.0           5  no event   \n",
       "1               10           7.0              0.0           3  no event   \n",
       "2               10           8.0              0.0           1  no event   \n",
       "3               10           9.0              0.0           3  no event   \n",
       "4               10           5.0              0.0           0  no event   \n",
       "5               10           4.0              0.0           0  no event   \n",
       "6               10           2.0              0.0           3  no event   \n",
       "7               10           4.0              0.0           8  no event   \n",
       "8                9           8.0              NaN           8      Rain   \n",
       "9                4           0.0              1.8           7      Rain   \n",
       "\n",
       "   WindDirDegrees  \n",
       "0             281  \n",
       "1             275  \n",
       "2             277  \n",
       "3             345  \n",
       "4             333  \n",
       "5             259  \n",
       "6             293  \n",
       "7              79  \n",
       "8              76  \n",
       "9             109  "
      ],
      "text/html": "<div>\n<style scoped>\n    .dataframe tbody tr th:only-of-type {\n        vertical-align: middle;\n    }\n\n    .dataframe tbody tr th {\n        vertical-align: top;\n    }\n\n    .dataframe thead th {\n        text-align: right;\n    }\n</style>\n<table border=\"1\" class=\"dataframe\">\n  <thead>\n    <tr style=\"text-align: right;\">\n      <th></th>\n      <th>EST</th>\n      <th>Temperature</th>\n      <th>DewPoint</th>\n      <th>Humidity</th>\n      <th>Sea Level PressureIn</th>\n      <th>VisibilityMiles</th>\n      <th>WindSpeedMPH</th>\n      <th>PrecipitationIn</th>\n      <th>CloudCover</th>\n      <th>Events</th>\n      <th>WindDirDegrees</th>\n    </tr>\n  </thead>\n  <tbody>\n    <tr>\n      <th>0</th>\n      <td>2016-01-01</td>\n      <td>38</td>\n      <td>23</td>\n      <td>54</td>\n      <td>30.03</td>\n      <td>10</td>\n      <td>8.0</td>\n      <td>0.0</td>\n      <td>5</td>\n      <td>no event</td>\n      <td>281</td>\n    </tr>\n    <tr>\n      <th>1</th>\n      <td>2016-01-02</td>\n      <td>36</td>\n      <td>18</td>\n      <td>46</td>\n      <td>30.02</td>\n      <td>10</td>\n      <td>7.0</td>\n      <td>0.0</td>\n      <td>3</td>\n      <td>no event</td>\n      <td>275</td>\n    </tr>\n    <tr>\n      <th>2</th>\n      <td>2016-01-03</td>\n      <td>40</td>\n      <td>21</td>\n      <td>47</td>\n      <td>29.86</td>\n      <td>10</td>\n      <td>8.0</td>\n      <td>0.0</td>\n      <td>1</td>\n      <td>no event</td>\n      <td>277</td>\n    </tr>\n    <tr>\n      <th>3</th>\n      <td>2016-01-04</td>\n      <td>25</td>\n      <td>9</td>\n      <td>44</td>\n      <td>30.05</td>\n      <td>10</td>\n      <td>9.0</td>\n      <td>0.0</td>\n      <td>3</td>\n      <td>no event</td>\n      <td>345</td>\n    </tr>\n    <tr>\n      <th>4</th>\n      <td>2016-01-05</td>\n      <td>20</td>\n      <td>-3</td>\n      <td>41</td>\n      <td>30.57</td>\n      <td>10</td>\n      <td>5.0</td>\n      <td>0.0</td>\n      <td>0</td>\n      <td>no event</td>\n      <td>333</td>\n    </tr>\n    <tr>\n      <th>5</th>\n      <td>2016-01-06</td>\n      <td>33</td>\n      <td>4</td>\n      <td>35</td>\n      <td>30.50</td>\n      <td>10</td>\n      <td>4.0</td>\n      <td>0.0</td>\n      <td>0</td>\n      <td>no event</td>\n      <td>259</td>\n    </tr>\n    <tr>\n      <th>6</th>\n      <td>2016-01-07</td>\n      <td>39</td>\n      <td>11</td>\n      <td>33</td>\n      <td>30.28</td>\n      <td>10</td>\n      <td>2.0</td>\n      <td>0.0</td>\n      <td>3</td>\n      <td>no event</td>\n      <td>293</td>\n    </tr>\n    <tr>\n      <th>7</th>\n      <td>2016-01-08</td>\n      <td>39</td>\n      <td>29</td>\n      <td>64</td>\n      <td>30.20</td>\n      <td>10</td>\n      <td>4.0</td>\n      <td>0.0</td>\n      <td>8</td>\n      <td>no event</td>\n      <td>79</td>\n    </tr>\n    <tr>\n      <th>8</th>\n      <td>2016-01-09</td>\n      <td>44</td>\n      <td>38</td>\n      <td>77</td>\n      <td>30.16</td>\n      <td>9</td>\n      <td>8.0</td>\n      <td>NaN</td>\n      <td>8</td>\n      <td>Rain</td>\n      <td>76</td>\n    </tr>\n    <tr>\n      <th>9</th>\n      <td>2016-01-10</td>\n      <td>50</td>\n      <td>46</td>\n      <td>71</td>\n      <td>29.59</td>\n      <td>4</td>\n      <td>0.0</td>\n      <td>1.8</td>\n      <td>7</td>\n      <td>Rain</td>\n      <td>109</td>\n    </tr>\n  </tbody>\n</table>\n</div>"
     },
     "metadata": {},
     "execution_count": 168
    }
   ],
   "source": [
    "harry = harry.fillna({\n",
    "        'Temperature': 0,\n",
    "        'WindSpeedMPH': 0,\n",
    "        'Events': 'no event'\n",
    "        })\n",
    "harry.head(10)"
   ]
  },
  {
   "cell_type": "code",
   "execution_count": 169,
   "metadata": {},
   "outputs": [],
   "source": [
    "# harry = harry.fillna(method=\"ffill\" ,limit=1) # it takes value from backward cell\n",
    "# harry = harry.fillna(method=\"bfill\" ,limit=1) # it takes value from forward cell"
   ]
  },
  {
   "cell_type": "code",
   "execution_count": 170,
   "metadata": {},
   "outputs": [
    {
     "output_type": "execute_result",
     "data": {
      "text/plain": [
       "         EST  Temperature  DewPoint  Humidity  Sea Level PressureIn  \\\n",
       "0 2016-01-01         38.0      23.0      54.0                 30.03   \n",
       "1 2016-01-02         36.0      18.0      46.0                 30.02   \n",
       "2 2016-01-03         40.0      21.0      47.0                 29.86   \n",
       "3 2016-01-04         25.0       9.0      44.0                 30.05   \n",
       "4 2016-01-05         20.0      -3.0      41.0                 30.57   \n",
       "5 2016-01-06         33.0       4.0      35.0                 30.50   \n",
       "6 2016-01-07         39.0      11.0      33.0                 30.28   \n",
       "7 2016-01-08         39.0      29.0      64.0                 30.20   \n",
       "8 2016-01-09         44.0      38.0      77.0                 30.16   \n",
       "9 2016-01-10         50.0      46.0      71.0                 29.59   \n",
       "\n",
       "   VisibilityMiles  WindSpeedMPH  PrecipitationIn  CloudCover    Events  \\\n",
       "0             10.0           8.0              NaN         5.0  no event   \n",
       "1             10.0           7.0              NaN         3.0  no event   \n",
       "2             10.0           8.0              NaN         1.0  no event   \n",
       "3             10.0           9.0              NaN         3.0  no event   \n",
       "4             10.0           5.0              NaN         NaN  no event   \n",
       "5             10.0           4.0              NaN         NaN  no event   \n",
       "6             10.0           2.0              NaN         3.0  no event   \n",
       "7             10.0           4.0              NaN         8.0  no event   \n",
       "8              9.0           8.0              NaN         8.0      Rain   \n",
       "9              4.0           NaN              1.8         7.0      Rain   \n",
       "\n",
       "   WindDirDegrees  \n",
       "0           281.0  \n",
       "1           275.0  \n",
       "2           277.0  \n",
       "3           345.0  \n",
       "4           333.0  \n",
       "5           259.0  \n",
       "6           293.0  \n",
       "7            79.0  \n",
       "8            76.0  \n",
       "9           109.0  "
      ],
      "text/html": "<div>\n<style scoped>\n    .dataframe tbody tr th:only-of-type {\n        vertical-align: middle;\n    }\n\n    .dataframe tbody tr th {\n        vertical-align: top;\n    }\n\n    .dataframe thead th {\n        text-align: right;\n    }\n</style>\n<table border=\"1\" class=\"dataframe\">\n  <thead>\n    <tr style=\"text-align: right;\">\n      <th></th>\n      <th>EST</th>\n      <th>Temperature</th>\n      <th>DewPoint</th>\n      <th>Humidity</th>\n      <th>Sea Level PressureIn</th>\n      <th>VisibilityMiles</th>\n      <th>WindSpeedMPH</th>\n      <th>PrecipitationIn</th>\n      <th>CloudCover</th>\n      <th>Events</th>\n      <th>WindDirDegrees</th>\n    </tr>\n  </thead>\n  <tbody>\n    <tr>\n      <th>0</th>\n      <td>2016-01-01</td>\n      <td>38.0</td>\n      <td>23.0</td>\n      <td>54.0</td>\n      <td>30.03</td>\n      <td>10.0</td>\n      <td>8.0</td>\n      <td>NaN</td>\n      <td>5.0</td>\n      <td>no event</td>\n      <td>281.0</td>\n    </tr>\n    <tr>\n      <th>1</th>\n      <td>2016-01-02</td>\n      <td>36.0</td>\n      <td>18.0</td>\n      <td>46.0</td>\n      <td>30.02</td>\n      <td>10.0</td>\n      <td>7.0</td>\n      <td>NaN</td>\n      <td>3.0</td>\n      <td>no event</td>\n      <td>275.0</td>\n    </tr>\n    <tr>\n      <th>2</th>\n      <td>2016-01-03</td>\n      <td>40.0</td>\n      <td>21.0</td>\n      <td>47.0</td>\n      <td>29.86</td>\n      <td>10.0</td>\n      <td>8.0</td>\n      <td>NaN</td>\n      <td>1.0</td>\n      <td>no event</td>\n      <td>277.0</td>\n    </tr>\n    <tr>\n      <th>3</th>\n      <td>2016-01-04</td>\n      <td>25.0</td>\n      <td>9.0</td>\n      <td>44.0</td>\n      <td>30.05</td>\n      <td>10.0</td>\n      <td>9.0</td>\n      <td>NaN</td>\n      <td>3.0</td>\n      <td>no event</td>\n      <td>345.0</td>\n    </tr>\n    <tr>\n      <th>4</th>\n      <td>2016-01-05</td>\n      <td>20.0</td>\n      <td>-3.0</td>\n      <td>41.0</td>\n      <td>30.57</td>\n      <td>10.0</td>\n      <td>5.0</td>\n      <td>NaN</td>\n      <td>NaN</td>\n      <td>no event</td>\n      <td>333.0</td>\n    </tr>\n    <tr>\n      <th>5</th>\n      <td>2016-01-06</td>\n      <td>33.0</td>\n      <td>4.0</td>\n      <td>35.0</td>\n      <td>30.50</td>\n      <td>10.0</td>\n      <td>4.0</td>\n      <td>NaN</td>\n      <td>NaN</td>\n      <td>no event</td>\n      <td>259.0</td>\n    </tr>\n    <tr>\n      <th>6</th>\n      <td>2016-01-07</td>\n      <td>39.0</td>\n      <td>11.0</td>\n      <td>33.0</td>\n      <td>30.28</td>\n      <td>10.0</td>\n      <td>2.0</td>\n      <td>NaN</td>\n      <td>3.0</td>\n      <td>no event</td>\n      <td>293.0</td>\n    </tr>\n    <tr>\n      <th>7</th>\n      <td>2016-01-08</td>\n      <td>39.0</td>\n      <td>29.0</td>\n      <td>64.0</td>\n      <td>30.20</td>\n      <td>10.0</td>\n      <td>4.0</td>\n      <td>NaN</td>\n      <td>8.0</td>\n      <td>no event</td>\n      <td>79.0</td>\n    </tr>\n    <tr>\n      <th>8</th>\n      <td>2016-01-09</td>\n      <td>44.0</td>\n      <td>38.0</td>\n      <td>77.0</td>\n      <td>30.16</td>\n      <td>9.0</td>\n      <td>8.0</td>\n      <td>NaN</td>\n      <td>8.0</td>\n      <td>Rain</td>\n      <td>76.0</td>\n    </tr>\n    <tr>\n      <th>9</th>\n      <td>2016-01-10</td>\n      <td>50.0</td>\n      <td>46.0</td>\n      <td>71.0</td>\n      <td>29.59</td>\n      <td>4.0</td>\n      <td>NaN</td>\n      <td>1.8</td>\n      <td>7.0</td>\n      <td>Rain</td>\n      <td>109.0</td>\n    </tr>\n  </tbody>\n</table>\n</div>"
     },
     "metadata": {},
     "execution_count": 170
    }
   ],
   "source": [
    "harry = harry.replace([0 , 0.1], np.NaN)  # it replace the given value \n",
    "harry.head(10)"
   ]
  },
  {
   "cell_type": "code",
   "execution_count": 171,
   "metadata": {},
   "outputs": [],
   "source": [
    "wind_mean = harry['WindSpeedMPH'].mean()"
   ]
  },
  {
   "cell_type": "code",
   "execution_count": 172,
   "metadata": {},
   "outputs": [
    {
     "output_type": "execute_result",
     "data": {
      "text/plain": [
       "          EST  Temperature  DewPoint  Humidity  Sea Level PressureIn  \\\n",
       "0  2016-01-01         38.0      23.0      54.0                 30.03   \n",
       "1  2016-01-02         36.0      18.0      46.0                 30.02   \n",
       "2  2016-01-03         40.0      21.0      47.0                 29.86   \n",
       "3  2016-01-04         25.0       9.0      44.0                 30.05   \n",
       "4  2016-01-05         20.0      -3.0      41.0                 30.57   \n",
       "5  2016-01-06         33.0       4.0      35.0                 30.50   \n",
       "6  2016-01-07         39.0      11.0      33.0                 30.28   \n",
       "7  2016-01-08         39.0      29.0      64.0                 30.20   \n",
       "8  2016-01-09         44.0      38.0      77.0                 30.16   \n",
       "9  2016-01-10         50.0      46.0      71.0                 29.59   \n",
       "10 2016-01-11         33.0       8.0      37.0                 29.92   \n",
       "11 2016-01-12         35.0      15.0      53.0                 29.85   \n",
       "12 2016-01-13         26.0       4.0      42.0                 29.94   \n",
       "13 2016-01-14         30.0      12.0      47.0                 29.95   \n",
       "14 2016-01-15         43.0      31.0      62.0                 29.82   \n",
       "15 2016-01-16         47.0      37.0      70.0                 29.52   \n",
       "16 2016-01-17         36.0      23.0      66.0                 29.78   \n",
       "17 2016-01-18         25.0       6.0      53.0                 29.83   \n",
       "18 2016-01-19         22.0       3.0      42.0                 30.03   \n",
       "19 2016-01-20         32.0      15.0      49.0                 30.13   \n",
       "20 2016-01-21         31.0      11.0      45.0                 30.15   \n",
       "21 2016-01-22         26.0       6.0      41.0                 30.21   \n",
       "22 2016-01-23         26.0      21.0      78.0                 29.77   \n",
       "23 2016-01-24         28.0      11.0      53.0                 29.92   \n",
       "24 2016-01-25         34.0      18.0      54.0                 30.25   \n",
       "25 2016-01-26         43.0      29.0      56.0                 30.03   \n",
       "26 2016-01-27         41.0      22.0      45.0                 30.03   \n",
       "27 2016-01-28         37.0      20.0      51.0                 29.90   \n",
       "28 2016-01-29         36.0      21.0      50.0                 29.58   \n",
       "29 2016-01-30         34.0      16.0      46.0                 30.01   \n",
       "30 2016-01-31         46.0      28.0      52.0                 29.90   \n",
       "\n",
       "    VisibilityMiles  WindSpeedMPH  PrecipitationIn  CloudCover    Events  \\\n",
       "0              10.0      8.000000              NaN         5.0  no event   \n",
       "1              10.0      7.000000              NaN         3.0  no event   \n",
       "2              10.0      8.000000              NaN         1.0  no event   \n",
       "3              10.0      9.000000              NaN         3.0  no event   \n",
       "4              10.0      5.000000              NaN         NaN  no event   \n",
       "5              10.0      4.000000              NaN         NaN  no event   \n",
       "6              10.0      2.000000              NaN         3.0  no event   \n",
       "7              10.0      4.000000              NaN         8.0  no event   \n",
       "8               9.0      8.000000              NaN         8.0      Rain   \n",
       "9               4.0      6.892857             1.80         7.0      Rain   \n",
       "10             10.0      6.892857              NaN         1.0  no event   \n",
       "11             10.0      6.000000              NaN         4.0  no event   \n",
       "12             10.0     10.000000              NaN         NaN  no event   \n",
       "13             10.0      5.000000              NaN         7.0  no event   \n",
       "14              9.0      5.000000              NaN         2.0  no event   \n",
       "15              8.0      7.000000             0.24         7.0      Rain   \n",
       "16              8.0      6.000000             0.05         6.0  Fog-Snow   \n",
       "17              9.0     12.000000              NaN         2.0      Snow   \n",
       "18             10.0     11.000000              NaN         1.0  no event   \n",
       "19             10.0      6.000000              NaN         2.0  no event   \n",
       "20             10.0      6.000000              NaN         1.0  no event   \n",
       "21              9.0      6.892857             0.01         3.0      Snow   \n",
       "22              1.0     16.000000             2.31         8.0  Fog-Snow   \n",
       "23              8.0      6.000000              NaN         3.0      Snow   \n",
       "24             10.0      3.000000              NaN         2.0  no event   \n",
       "25             10.0      7.000000              NaN         2.0  no event   \n",
       "26             10.0      7.000000              NaN         3.0      Rain   \n",
       "27             10.0      5.000000              NaN         1.0  no event   \n",
       "28             10.0      8.000000              NaN         4.0  no event   \n",
       "29             10.0      7.000000              NaN         NaN  no event   \n",
       "30             10.0      5.000000              NaN         NaN  no event   \n",
       "\n",
       "    WindDirDegrees  \n",
       "0            281.0  \n",
       "1            275.0  \n",
       "2            277.0  \n",
       "3            345.0  \n",
       "4            333.0  \n",
       "5            259.0  \n",
       "6            293.0  \n",
       "7             79.0  \n",
       "8             76.0  \n",
       "9            109.0  \n",
       "10           289.0  \n",
       "11           235.0  \n",
       "12           284.0  \n",
       "13           266.0  \n",
       "14           101.0  \n",
       "15           340.0  \n",
       "16           345.0  \n",
       "17           293.0  \n",
       "18           293.0  \n",
       "19           302.0  \n",
       "20           312.0  \n",
       "21            34.0  \n",
       "22            42.0  \n",
       "23           327.0  \n",
       "24           286.0  \n",
       "25           244.0  \n",
       "26           311.0  \n",
       "27           234.0  \n",
       "28           298.0  \n",
       "29           257.0  \n",
       "30           241.0  "
      ],
      "text/html": "<div>\n<style scoped>\n    .dataframe tbody tr th:only-of-type {\n        vertical-align: middle;\n    }\n\n    .dataframe tbody tr th {\n        vertical-align: top;\n    }\n\n    .dataframe thead th {\n        text-align: right;\n    }\n</style>\n<table border=\"1\" class=\"dataframe\">\n  <thead>\n    <tr style=\"text-align: right;\">\n      <th></th>\n      <th>EST</th>\n      <th>Temperature</th>\n      <th>DewPoint</th>\n      <th>Humidity</th>\n      <th>Sea Level PressureIn</th>\n      <th>VisibilityMiles</th>\n      <th>WindSpeedMPH</th>\n      <th>PrecipitationIn</th>\n      <th>CloudCover</th>\n      <th>Events</th>\n      <th>WindDirDegrees</th>\n    </tr>\n  </thead>\n  <tbody>\n    <tr>\n      <th>0</th>\n      <td>2016-01-01</td>\n      <td>38.0</td>\n      <td>23.0</td>\n      <td>54.0</td>\n      <td>30.03</td>\n      <td>10.0</td>\n      <td>8.000000</td>\n      <td>NaN</td>\n      <td>5.0</td>\n      <td>no event</td>\n      <td>281.0</td>\n    </tr>\n    <tr>\n      <th>1</th>\n      <td>2016-01-02</td>\n      <td>36.0</td>\n      <td>18.0</td>\n      <td>46.0</td>\n      <td>30.02</td>\n      <td>10.0</td>\n      <td>7.000000</td>\n      <td>NaN</td>\n      <td>3.0</td>\n      <td>no event</td>\n      <td>275.0</td>\n    </tr>\n    <tr>\n      <th>2</th>\n      <td>2016-01-03</td>\n      <td>40.0</td>\n      <td>21.0</td>\n      <td>47.0</td>\n      <td>29.86</td>\n      <td>10.0</td>\n      <td>8.000000</td>\n      <td>NaN</td>\n      <td>1.0</td>\n      <td>no event</td>\n      <td>277.0</td>\n    </tr>\n    <tr>\n      <th>3</th>\n      <td>2016-01-04</td>\n      <td>25.0</td>\n      <td>9.0</td>\n      <td>44.0</td>\n      <td>30.05</td>\n      <td>10.0</td>\n      <td>9.000000</td>\n      <td>NaN</td>\n      <td>3.0</td>\n      <td>no event</td>\n      <td>345.0</td>\n    </tr>\n    <tr>\n      <th>4</th>\n      <td>2016-01-05</td>\n      <td>20.0</td>\n      <td>-3.0</td>\n      <td>41.0</td>\n      <td>30.57</td>\n      <td>10.0</td>\n      <td>5.000000</td>\n      <td>NaN</td>\n      <td>NaN</td>\n      <td>no event</td>\n      <td>333.0</td>\n    </tr>\n    <tr>\n      <th>5</th>\n      <td>2016-01-06</td>\n      <td>33.0</td>\n      <td>4.0</td>\n      <td>35.0</td>\n      <td>30.50</td>\n      <td>10.0</td>\n      <td>4.000000</td>\n      <td>NaN</td>\n      <td>NaN</td>\n      <td>no event</td>\n      <td>259.0</td>\n    </tr>\n    <tr>\n      <th>6</th>\n      <td>2016-01-07</td>\n      <td>39.0</td>\n      <td>11.0</td>\n      <td>33.0</td>\n      <td>30.28</td>\n      <td>10.0</td>\n      <td>2.000000</td>\n      <td>NaN</td>\n      <td>3.0</td>\n      <td>no event</td>\n      <td>293.0</td>\n    </tr>\n    <tr>\n      <th>7</th>\n      <td>2016-01-08</td>\n      <td>39.0</td>\n      <td>29.0</td>\n      <td>64.0</td>\n      <td>30.20</td>\n      <td>10.0</td>\n      <td>4.000000</td>\n      <td>NaN</td>\n      <td>8.0</td>\n      <td>no event</td>\n      <td>79.0</td>\n    </tr>\n    <tr>\n      <th>8</th>\n      <td>2016-01-09</td>\n      <td>44.0</td>\n      <td>38.0</td>\n      <td>77.0</td>\n      <td>30.16</td>\n      <td>9.0</td>\n      <td>8.000000</td>\n      <td>NaN</td>\n      <td>8.0</td>\n      <td>Rain</td>\n      <td>76.0</td>\n    </tr>\n    <tr>\n      <th>9</th>\n      <td>2016-01-10</td>\n      <td>50.0</td>\n      <td>46.0</td>\n      <td>71.0</td>\n      <td>29.59</td>\n      <td>4.0</td>\n      <td>6.892857</td>\n      <td>1.80</td>\n      <td>7.0</td>\n      <td>Rain</td>\n      <td>109.0</td>\n    </tr>\n    <tr>\n      <th>10</th>\n      <td>2016-01-11</td>\n      <td>33.0</td>\n      <td>8.0</td>\n      <td>37.0</td>\n      <td>29.92</td>\n      <td>10.0</td>\n      <td>6.892857</td>\n      <td>NaN</td>\n      <td>1.0</td>\n      <td>no event</td>\n      <td>289.0</td>\n    </tr>\n    <tr>\n      <th>11</th>\n      <td>2016-01-12</td>\n      <td>35.0</td>\n      <td>15.0</td>\n      <td>53.0</td>\n      <td>29.85</td>\n      <td>10.0</td>\n      <td>6.000000</td>\n      <td>NaN</td>\n      <td>4.0</td>\n      <td>no event</td>\n      <td>235.0</td>\n    </tr>\n    <tr>\n      <th>12</th>\n      <td>2016-01-13</td>\n      <td>26.0</td>\n      <td>4.0</td>\n      <td>42.0</td>\n      <td>29.94</td>\n      <td>10.0</td>\n      <td>10.000000</td>\n      <td>NaN</td>\n      <td>NaN</td>\n      <td>no event</td>\n      <td>284.0</td>\n    </tr>\n    <tr>\n      <th>13</th>\n      <td>2016-01-14</td>\n      <td>30.0</td>\n      <td>12.0</td>\n      <td>47.0</td>\n      <td>29.95</td>\n      <td>10.0</td>\n      <td>5.000000</td>\n      <td>NaN</td>\n      <td>7.0</td>\n      <td>no event</td>\n      <td>266.0</td>\n    </tr>\n    <tr>\n      <th>14</th>\n      <td>2016-01-15</td>\n      <td>43.0</td>\n      <td>31.0</td>\n      <td>62.0</td>\n      <td>29.82</td>\n      <td>9.0</td>\n      <td>5.000000</td>\n      <td>NaN</td>\n      <td>2.0</td>\n      <td>no event</td>\n      <td>101.0</td>\n    </tr>\n    <tr>\n      <th>15</th>\n      <td>2016-01-16</td>\n      <td>47.0</td>\n      <td>37.0</td>\n      <td>70.0</td>\n      <td>29.52</td>\n      <td>8.0</td>\n      <td>7.000000</td>\n      <td>0.24</td>\n      <td>7.0</td>\n      <td>Rain</td>\n      <td>340.0</td>\n    </tr>\n    <tr>\n      <th>16</th>\n      <td>2016-01-17</td>\n      <td>36.0</td>\n      <td>23.0</td>\n      <td>66.0</td>\n      <td>29.78</td>\n      <td>8.0</td>\n      <td>6.000000</td>\n      <td>0.05</td>\n      <td>6.0</td>\n      <td>Fog-Snow</td>\n      <td>345.0</td>\n    </tr>\n    <tr>\n      <th>17</th>\n      <td>2016-01-18</td>\n      <td>25.0</td>\n      <td>6.0</td>\n      <td>53.0</td>\n      <td>29.83</td>\n      <td>9.0</td>\n      <td>12.000000</td>\n      <td>NaN</td>\n      <td>2.0</td>\n      <td>Snow</td>\n      <td>293.0</td>\n    </tr>\n    <tr>\n      <th>18</th>\n      <td>2016-01-19</td>\n      <td>22.0</td>\n      <td>3.0</td>\n      <td>42.0</td>\n      <td>30.03</td>\n      <td>10.0</td>\n      <td>11.000000</td>\n      <td>NaN</td>\n      <td>1.0</td>\n      <td>no event</td>\n      <td>293.0</td>\n    </tr>\n    <tr>\n      <th>19</th>\n      <td>2016-01-20</td>\n      <td>32.0</td>\n      <td>15.0</td>\n      <td>49.0</td>\n      <td>30.13</td>\n      <td>10.0</td>\n      <td>6.000000</td>\n      <td>NaN</td>\n      <td>2.0</td>\n      <td>no event</td>\n      <td>302.0</td>\n    </tr>\n    <tr>\n      <th>20</th>\n      <td>2016-01-21</td>\n      <td>31.0</td>\n      <td>11.0</td>\n      <td>45.0</td>\n      <td>30.15</td>\n      <td>10.0</td>\n      <td>6.000000</td>\n      <td>NaN</td>\n      <td>1.0</td>\n      <td>no event</td>\n      <td>312.0</td>\n    </tr>\n    <tr>\n      <th>21</th>\n      <td>2016-01-22</td>\n      <td>26.0</td>\n      <td>6.0</td>\n      <td>41.0</td>\n      <td>30.21</td>\n      <td>9.0</td>\n      <td>6.892857</td>\n      <td>0.01</td>\n      <td>3.0</td>\n      <td>Snow</td>\n      <td>34.0</td>\n    </tr>\n    <tr>\n      <th>22</th>\n      <td>2016-01-23</td>\n      <td>26.0</td>\n      <td>21.0</td>\n      <td>78.0</td>\n      <td>29.77</td>\n      <td>1.0</td>\n      <td>16.000000</td>\n      <td>2.31</td>\n      <td>8.0</td>\n      <td>Fog-Snow</td>\n      <td>42.0</td>\n    </tr>\n    <tr>\n      <th>23</th>\n      <td>2016-01-24</td>\n      <td>28.0</td>\n      <td>11.0</td>\n      <td>53.0</td>\n      <td>29.92</td>\n      <td>8.0</td>\n      <td>6.000000</td>\n      <td>NaN</td>\n      <td>3.0</td>\n      <td>Snow</td>\n      <td>327.0</td>\n    </tr>\n    <tr>\n      <th>24</th>\n      <td>2016-01-25</td>\n      <td>34.0</td>\n      <td>18.0</td>\n      <td>54.0</td>\n      <td>30.25</td>\n      <td>10.0</td>\n      <td>3.000000</td>\n      <td>NaN</td>\n      <td>2.0</td>\n      <td>no event</td>\n      <td>286.0</td>\n    </tr>\n    <tr>\n      <th>25</th>\n      <td>2016-01-26</td>\n      <td>43.0</td>\n      <td>29.0</td>\n      <td>56.0</td>\n      <td>30.03</td>\n      <td>10.0</td>\n      <td>7.000000</td>\n      <td>NaN</td>\n      <td>2.0</td>\n      <td>no event</td>\n      <td>244.0</td>\n    </tr>\n    <tr>\n      <th>26</th>\n      <td>2016-01-27</td>\n      <td>41.0</td>\n      <td>22.0</td>\n      <td>45.0</td>\n      <td>30.03</td>\n      <td>10.0</td>\n      <td>7.000000</td>\n      <td>NaN</td>\n      <td>3.0</td>\n      <td>Rain</td>\n      <td>311.0</td>\n    </tr>\n    <tr>\n      <th>27</th>\n      <td>2016-01-28</td>\n      <td>37.0</td>\n      <td>20.0</td>\n      <td>51.0</td>\n      <td>29.90</td>\n      <td>10.0</td>\n      <td>5.000000</td>\n      <td>NaN</td>\n      <td>1.0</td>\n      <td>no event</td>\n      <td>234.0</td>\n    </tr>\n    <tr>\n      <th>28</th>\n      <td>2016-01-29</td>\n      <td>36.0</td>\n      <td>21.0</td>\n      <td>50.0</td>\n      <td>29.58</td>\n      <td>10.0</td>\n      <td>8.000000</td>\n      <td>NaN</td>\n      <td>4.0</td>\n      <td>no event</td>\n      <td>298.0</td>\n    </tr>\n    <tr>\n      <th>29</th>\n      <td>2016-01-30</td>\n      <td>34.0</td>\n      <td>16.0</td>\n      <td>46.0</td>\n      <td>30.01</td>\n      <td>10.0</td>\n      <td>7.000000</td>\n      <td>NaN</td>\n      <td>NaN</td>\n      <td>no event</td>\n      <td>257.0</td>\n    </tr>\n    <tr>\n      <th>30</th>\n      <td>2016-01-31</td>\n      <td>46.0</td>\n      <td>28.0</td>\n      <td>52.0</td>\n      <td>29.90</td>\n      <td>10.0</td>\n      <td>5.000000</td>\n      <td>NaN</td>\n      <td>NaN</td>\n      <td>no event</td>\n      <td>241.0</td>\n    </tr>\n  </tbody>\n</table>\n</div>"
     },
     "metadata": {},
     "execution_count": 172
    }
   ],
   "source": [
    "harry = harry.fillna({'WindSpeedMPH': wind_mean})\n",
    "harry"
   ]
  },
  {
   "cell_type": "code",
   "execution_count": null,
   "metadata": {},
   "outputs": [],
   "source": []
  }
 ]
}