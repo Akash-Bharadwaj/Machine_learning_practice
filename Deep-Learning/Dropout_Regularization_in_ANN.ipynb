{
 "metadata": {
  "language_info": {
   "codemirror_mode": {
    "name": "ipython",
    "version": 3
   },
   "file_extension": ".py",
   "mimetype": "text/x-python",
   "name": "python",
   "nbconvert_exporter": "python",
   "pygments_lexer": "ipython3",
   "version": "3.9.2"
  },
  "orig_nbformat": 2,
  "kernelspec": {
   "name": "python392jvsc74a57bd014a336a61cfaefff504b47e2b8e6e50961f0feafa7b211f8ff23081790c52144",
   "display_name": "Python 3.9.2 64-bit"
  }
 },
 "nbformat": 4,
 "nbformat_minor": 2,
 "cells": [
  {
   "source": [
    "# Regularization techniques in Neural-Network\n",
    "## DroupOut Regualization"
   ],
   "cell_type": "markdown",
   "metadata": {}
  },
  {
   "source": [
    "## 1. Import usefull libraries"
   ],
   "cell_type": "markdown",
   "metadata": {}
  },
  {
   "cell_type": "code",
   "execution_count": 1,
   "metadata": {},
   "outputs": [],
   "source": [
    "import numpy as np\n",
    "import pandas as pd\n",
    "import matplotlib.pyplot as plt\n",
    "import seaborn as sns\n",
    "\n",
    "import warnings\n",
    "warnings.filterwarnings('ignore')"
   ]
  },
  {
   "source": [
    "## 2. Import data"
   ],
   "cell_type": "markdown",
   "metadata": {}
  },
  {
   "cell_type": "code",
   "execution_count": 2,
   "metadata": {},
   "outputs": [
    {
     "output_type": "execute_result",
     "data": {
      "text/plain": [
       "         0       1       2       3       4       5       6       7       8   \\\n",
       "202  0.0272  0.0378  0.0488  0.0848  0.1127  0.1103  0.1349  0.2337  0.3113   \n",
       "114  0.0114  0.0222  0.0269  0.0384  0.1217  0.2062  0.1489  0.0929  0.1350   \n",
       "181  0.0423  0.0321  0.0709  0.0108  0.1070  0.0973  0.0961  0.1323  0.2462   \n",
       "186  0.0209  0.0191  0.0411  0.0321  0.0698  0.1579  0.1438  0.1402  0.3048   \n",
       "127  0.0209  0.0261  0.0120  0.0768  0.1064  0.1680  0.3016  0.3460  0.3314   \n",
       "\n",
       "         9   ...      51      52      53      54      55      56      57  \\\n",
       "202  0.3997  ...  0.0091  0.0045  0.0043  0.0043  0.0098  0.0054  0.0051   \n",
       "114  0.1799  ...  0.0269  0.0152  0.0257  0.0097  0.0041  0.0050  0.0145   \n",
       "181  0.2696  ...  0.0176  0.0035  0.0093  0.0121  0.0075  0.0056  0.0021   \n",
       "186  0.3914  ...  0.0078  0.0201  0.0104  0.0039  0.0031  0.0062  0.0087   \n",
       "127  0.4125  ...  0.0057  0.0159  0.0085  0.0372  0.0101  0.0127  0.0288   \n",
       "\n",
       "         58      59  60  \n",
       "202  0.0065  0.0103   M  \n",
       "114  0.0103  0.0025   M  \n",
       "181  0.0043  0.0017   M  \n",
       "186  0.0070  0.0042   M  \n",
       "127  0.0129  0.0023   M  \n",
       "\n",
       "[5 rows x 61 columns]"
      ],
      "text/html": "<div>\n<style scoped>\n    .dataframe tbody tr th:only-of-type {\n        vertical-align: middle;\n    }\n\n    .dataframe tbody tr th {\n        vertical-align: top;\n    }\n\n    .dataframe thead th {\n        text-align: right;\n    }\n</style>\n<table border=\"1\" class=\"dataframe\">\n  <thead>\n    <tr style=\"text-align: right;\">\n      <th></th>\n      <th>0</th>\n      <th>1</th>\n      <th>2</th>\n      <th>3</th>\n      <th>4</th>\n      <th>5</th>\n      <th>6</th>\n      <th>7</th>\n      <th>8</th>\n      <th>9</th>\n      <th>...</th>\n      <th>51</th>\n      <th>52</th>\n      <th>53</th>\n      <th>54</th>\n      <th>55</th>\n      <th>56</th>\n      <th>57</th>\n      <th>58</th>\n      <th>59</th>\n      <th>60</th>\n    </tr>\n  </thead>\n  <tbody>\n    <tr>\n      <th>202</th>\n      <td>0.0272</td>\n      <td>0.0378</td>\n      <td>0.0488</td>\n      <td>0.0848</td>\n      <td>0.1127</td>\n      <td>0.1103</td>\n      <td>0.1349</td>\n      <td>0.2337</td>\n      <td>0.3113</td>\n      <td>0.3997</td>\n      <td>...</td>\n      <td>0.0091</td>\n      <td>0.0045</td>\n      <td>0.0043</td>\n      <td>0.0043</td>\n      <td>0.0098</td>\n      <td>0.0054</td>\n      <td>0.0051</td>\n      <td>0.0065</td>\n      <td>0.0103</td>\n      <td>M</td>\n    </tr>\n    <tr>\n      <th>114</th>\n      <td>0.0114</td>\n      <td>0.0222</td>\n      <td>0.0269</td>\n      <td>0.0384</td>\n      <td>0.1217</td>\n      <td>0.2062</td>\n      <td>0.1489</td>\n      <td>0.0929</td>\n      <td>0.1350</td>\n      <td>0.1799</td>\n      <td>...</td>\n      <td>0.0269</td>\n      <td>0.0152</td>\n      <td>0.0257</td>\n      <td>0.0097</td>\n      <td>0.0041</td>\n      <td>0.0050</td>\n      <td>0.0145</td>\n      <td>0.0103</td>\n      <td>0.0025</td>\n      <td>M</td>\n    </tr>\n    <tr>\n      <th>181</th>\n      <td>0.0423</td>\n      <td>0.0321</td>\n      <td>0.0709</td>\n      <td>0.0108</td>\n      <td>0.1070</td>\n      <td>0.0973</td>\n      <td>0.0961</td>\n      <td>0.1323</td>\n      <td>0.2462</td>\n      <td>0.2696</td>\n      <td>...</td>\n      <td>0.0176</td>\n      <td>0.0035</td>\n      <td>0.0093</td>\n      <td>0.0121</td>\n      <td>0.0075</td>\n      <td>0.0056</td>\n      <td>0.0021</td>\n      <td>0.0043</td>\n      <td>0.0017</td>\n      <td>M</td>\n    </tr>\n    <tr>\n      <th>186</th>\n      <td>0.0209</td>\n      <td>0.0191</td>\n      <td>0.0411</td>\n      <td>0.0321</td>\n      <td>0.0698</td>\n      <td>0.1579</td>\n      <td>0.1438</td>\n      <td>0.1402</td>\n      <td>0.3048</td>\n      <td>0.3914</td>\n      <td>...</td>\n      <td>0.0078</td>\n      <td>0.0201</td>\n      <td>0.0104</td>\n      <td>0.0039</td>\n      <td>0.0031</td>\n      <td>0.0062</td>\n      <td>0.0087</td>\n      <td>0.0070</td>\n      <td>0.0042</td>\n      <td>M</td>\n    </tr>\n    <tr>\n      <th>127</th>\n      <td>0.0209</td>\n      <td>0.0261</td>\n      <td>0.0120</td>\n      <td>0.0768</td>\n      <td>0.1064</td>\n      <td>0.1680</td>\n      <td>0.3016</td>\n      <td>0.3460</td>\n      <td>0.3314</td>\n      <td>0.4125</td>\n      <td>...</td>\n      <td>0.0057</td>\n      <td>0.0159</td>\n      <td>0.0085</td>\n      <td>0.0372</td>\n      <td>0.0101</td>\n      <td>0.0127</td>\n      <td>0.0288</td>\n      <td>0.0129</td>\n      <td>0.0023</td>\n      <td>M</td>\n    </tr>\n  </tbody>\n</table>\n<p>5 rows × 61 columns</p>\n</div>"
     },
     "metadata": {},
     "execution_count": 2
    }
   ],
   "source": [
    "df = pd.read_csv(\"D:\\Akash\\Machine Learning\\Data_for_ML\\sonar_dataset.csv\" , header= None)\n",
    "\n",
    "df.sample(5)"
   ]
  },
  {
   "cell_type": "code",
   "execution_count": 3,
   "metadata": {},
   "outputs": [
    {
     "output_type": "execute_result",
     "data": {
      "text/plain": [
       "(208, 61)"
      ]
     },
     "metadata": {},
     "execution_count": 3
    }
   ],
   "source": [
    "df.shape"
   ]
  },
  {
   "cell_type": "code",
   "execution_count": 4,
   "metadata": {},
   "outputs": [
    {
     "output_type": "execute_result",
     "data": {
      "text/plain": [
       "Int64Index([ 0,  1,  2,  3,  4,  5,  6,  7,  8,  9, 10, 11, 12, 13, 14, 15, 16,\n",
       "            17, 18, 19, 20, 21, 22, 23, 24, 25, 26, 27, 28, 29, 30, 31, 32, 33,\n",
       "            34, 35, 36, 37, 38, 39, 40, 41, 42, 43, 44, 45, 46, 47, 48, 49, 50,\n",
       "            51, 52, 53, 54, 55, 56, 57, 58, 59, 60],\n",
       "           dtype='int64')"
      ]
     },
     "metadata": {},
     "execution_count": 4
    }
   ],
   "source": [
    "df.columns"
   ]
  },
  {
   "source": [
    "## 3. Cleaning of our datasets"
   ],
   "cell_type": "markdown",
   "metadata": {}
  },
  {
   "cell_type": "code",
   "execution_count": 5,
   "metadata": {},
   "outputs": [
    {
     "output_type": "execute_result",
     "data": {
      "text/plain": [
       "0     0\n",
       "1     0\n",
       "2     0\n",
       "3     0\n",
       "4     0\n",
       "     ..\n",
       "56    0\n",
       "57    0\n",
       "58    0\n",
       "59    0\n",
       "60    0\n",
       "Length: 61, dtype: int64"
      ]
     },
     "metadata": {},
     "execution_count": 5
    }
   ],
   "source": [
    "# check for nan values\n",
    "df.isna().sum()"
   ]
  },
  {
   "cell_type": "code",
   "execution_count": 6,
   "metadata": {},
   "outputs": [
    {
     "output_type": "execute_result",
     "data": {
      "text/plain": [
       "0     float64\n",
       "1     float64\n",
       "2     float64\n",
       "3     float64\n",
       "4     float64\n",
       "       ...   \n",
       "56    float64\n",
       "57    float64\n",
       "58    float64\n",
       "59    float64\n",
       "60     object\n",
       "Length: 61, dtype: object"
      ]
     },
     "metadata": {},
     "execution_count": 6
    }
   ],
   "source": [
    "df.dtypes"
   ]
  },
  {
   "cell_type": "code",
   "execution_count": 7,
   "metadata": {},
   "outputs": [
    {
     "output_type": "execute_result",
     "data": {
      "text/plain": [
       "M    111\n",
       "R     97\n",
       "Name: 60, dtype: int64"
      ]
     },
     "metadata": {},
     "execution_count": 7
    }
   ],
   "source": [
    "df[60].value_counts()"
   ]
  },
  {
   "source": [
    "## 4. splitting of datasets"
   ],
   "cell_type": "markdown",
   "metadata": {}
  },
  {
   "cell_type": "code",
   "execution_count": 8,
   "metadata": {},
   "outputs": [],
   "source": [
    "x = df.drop(60, axis=1)\n",
    "y = df[60]"
   ]
  },
  {
   "cell_type": "code",
   "execution_count": 9,
   "metadata": {},
   "outputs": [
    {
     "output_type": "execute_result",
     "data": {
      "text/plain": [
       "     R\n",
       "26   1\n",
       "93   1\n",
       "123  0\n",
       "38   1\n",
       "55   1"
      ],
      "text/html": "<div>\n<style scoped>\n    .dataframe tbody tr th:only-of-type {\n        vertical-align: middle;\n    }\n\n    .dataframe tbody tr th {\n        vertical-align: top;\n    }\n\n    .dataframe thead th {\n        text-align: right;\n    }\n</style>\n<table border=\"1\" class=\"dataframe\">\n  <thead>\n    <tr style=\"text-align: right;\">\n      <th></th>\n      <th>R</th>\n    </tr>\n  </thead>\n  <tbody>\n    <tr>\n      <th>26</th>\n      <td>1</td>\n    </tr>\n    <tr>\n      <th>93</th>\n      <td>1</td>\n    </tr>\n    <tr>\n      <th>123</th>\n      <td>0</td>\n    </tr>\n    <tr>\n      <th>38</th>\n      <td>1</td>\n    </tr>\n    <tr>\n      <th>55</th>\n      <td>1</td>\n    </tr>\n  </tbody>\n</table>\n</div>"
     },
     "metadata": {},
     "execution_count": 9
    }
   ],
   "source": [
    "# one hot encoding of column(60)\n",
    "\n",
    "y = pd.get_dummies(y , drop_first=True)\n",
    "y.sample(5)    # R --> 1 and M --> 0"
   ]
  },
  {
   "cell_type": "code",
   "execution_count": 10,
   "metadata": {},
   "outputs": [
    {
     "output_type": "execute_result",
     "data": {
      "text/plain": [
       "R\n",
       "0    111\n",
       "1     97\n",
       "dtype: int64"
      ]
     },
     "metadata": {},
     "execution_count": 10
    }
   ],
   "source": [
    "y.value_counts()"
   ]
  },
  {
   "source": [
    "## Train test splitting"
   ],
   "cell_type": "markdown",
   "metadata": {}
  },
  {
   "cell_type": "code",
   "execution_count": 11,
   "metadata": {},
   "outputs": [],
   "source": [
    "from sklearn.model_selection import train_test_split\n",
    "x_train, x_test, y_train, y_test = train_test_split(x, y, test_size=0.25, random_state=1)"
   ]
  },
  {
   "cell_type": "code",
   "execution_count": 12,
   "metadata": {},
   "outputs": [
    {
     "output_type": "execute_result",
     "data": {
      "text/plain": [
       "((156, 60), (156, 1))"
      ]
     },
     "metadata": {},
     "execution_count": 12
    }
   ],
   "source": [
    "x_train.shape , y_train.shape"
   ]
  },
  {
   "source": [
    "# 5. Import model and train it "
   ],
   "cell_type": "markdown",
   "metadata": {}
  },
  {
   "source": [
    "## Model without Dropout Layer"
   ],
   "cell_type": "markdown",
   "metadata": {}
  },
  {
   "cell_type": "code",
   "execution_count": 13,
   "metadata": {},
   "outputs": [
    {
     "output_type": "stream",
     "name": "stdout",
     "text": [
      "Epoch 1/100\n",
      "20/20 [==============================] - 8s 8ms/step - loss: 0.7010 - accuracy: 0.5000\n",
      "Epoch 2/100\n",
      "20/20 [==============================] - 0s 9ms/step - loss: 0.6675 - accuracy: 0.5705\n",
      "Epoch 3/100\n",
      "20/20 [==============================] - 0s 10ms/step - loss: 0.6444 - accuracy: 0.6090\n",
      "Epoch 4/100\n",
      "20/20 [==============================] - 0s 9ms/step - loss: 0.6180 - accuracy: 0.7500\n",
      "Epoch 5/100\n",
      "20/20 [==============================] - 0s 8ms/step - loss: 0.5826 - accuracy: 0.7949\n",
      "Epoch 6/100\n",
      "20/20 [==============================] - 0s 8ms/step - loss: 0.5535 - accuracy: 0.7885\n",
      "Epoch 7/100\n",
      "20/20 [==============================] - 0s 10ms/step - loss: 0.5163 - accuracy: 0.8205\n",
      "Epoch 8/100\n",
      "20/20 [==============================] - 0s 15ms/step - loss: 0.4721 - accuracy: 0.8397\n",
      "Epoch 9/100\n",
      "20/20 [==============================] - 0s 10ms/step - loss: 0.4494 - accuracy: 0.8462\n",
      "Epoch 10/100\n",
      "20/20 [==============================] - 0s 7ms/step - loss: 0.4235 - accuracy: 0.8205\n",
      "Epoch 11/100\n",
      "20/20 [==============================] - 0s 10ms/step - loss: 0.3898 - accuracy: 0.8526\n",
      "Epoch 12/100\n",
      "20/20 [==============================] - 0s 10ms/step - loss: 0.3636 - accuracy: 0.8718\n",
      "Epoch 13/100\n",
      "20/20 [==============================] - 0s 8ms/step - loss: 0.3680 - accuracy: 0.8397\n",
      "Epoch 14/100\n",
      "20/20 [==============================] - 0s 10ms/step - loss: 0.3533 - accuracy: 0.8462\n",
      "Epoch 15/100\n",
      "20/20 [==============================] - 0s 11ms/step - loss: 0.3562 - accuracy: 0.8269\n",
      "Epoch 16/100\n",
      "20/20 [==============================] - 0s 11ms/step - loss: 0.3177 - accuracy: 0.8910\n",
      "Epoch 17/100\n",
      "20/20 [==============================] - 0s 7ms/step - loss: 0.3067 - accuracy: 0.8718\n",
      "Epoch 18/100\n",
      "20/20 [==============================] - 0s 10ms/step - loss: 0.2758 - accuracy: 0.9038\n",
      "Epoch 19/100\n",
      "20/20 [==============================] - 0s 9ms/step - loss: 0.3444 - accuracy: 0.8462\n",
      "Epoch 20/100\n",
      "20/20 [==============================] - 0s 8ms/step - loss: 0.2642 - accuracy: 0.9103\n",
      "Epoch 21/100\n",
      "20/20 [==============================] - 0s 7ms/step - loss: 0.2422 - accuracy: 0.9359\n",
      "Epoch 22/100\n",
      "20/20 [==============================] - 0s 6ms/step - loss: 0.2312 - accuracy: 0.9423\n",
      "Epoch 23/100\n",
      "20/20 [==============================] - 0s 8ms/step - loss: 0.2095 - accuracy: 0.9744\n",
      "Epoch 24/100\n",
      "20/20 [==============================] - 0s 10ms/step - loss: 0.2140 - accuracy: 0.9359\n",
      "Epoch 25/100\n",
      "20/20 [==============================] - 0s 7ms/step - loss: 0.1893 - accuracy: 0.9615\n",
      "Epoch 26/100\n",
      "20/20 [==============================] - 0s 7ms/step - loss: 0.1823 - accuracy: 0.9615\n",
      "Epoch 27/100\n",
      "20/20 [==============================] - 0s 8ms/step - loss: 0.1684 - accuracy: 0.9744\n",
      "Epoch 28/100\n",
      "20/20 [==============================] - 0s 3ms/step - loss: 0.1749 - accuracy: 0.9487\n",
      "Epoch 29/100\n",
      "20/20 [==============================] - 0s 5ms/step - loss: 0.1487 - accuracy: 0.9808\n",
      "Epoch 30/100\n",
      "20/20 [==============================] - 0s 7ms/step - loss: 0.1401 - accuracy: 0.9808\n",
      "Epoch 31/100\n",
      "20/20 [==============================] - 0s 7ms/step - loss: 0.1394 - accuracy: 0.9744\n",
      "Epoch 32/100\n",
      "20/20 [==============================] - 0s 6ms/step - loss: 0.1385 - accuracy: 0.9615\n",
      "Epoch 33/100\n",
      "20/20 [==============================] - 0s 7ms/step - loss: 0.1531 - accuracy: 0.9551\n",
      "Epoch 34/100\n",
      "20/20 [==============================] - 0s 6ms/step - loss: 0.1127 - accuracy: 0.9808\n",
      "Epoch 35/100\n",
      "20/20 [==============================] - 0s 5ms/step - loss: 0.1070 - accuracy: 0.9808\n",
      "Epoch 36/100\n",
      "20/20 [==============================] - 0s 5ms/step - loss: 0.0982 - accuracy: 0.9872\n",
      "Epoch 37/100\n",
      "20/20 [==============================] - 0s 8ms/step - loss: 0.0922 - accuracy: 0.9808\n",
      "Epoch 38/100\n",
      "20/20 [==============================] - 0s 8ms/step - loss: 0.0824 - accuracy: 0.9872\n",
      "Epoch 39/100\n",
      "20/20 [==============================] - 0s 6ms/step - loss: 0.0820 - accuracy: 0.9872\n",
      "Epoch 40/100\n",
      "20/20 [==============================] - 0s 10ms/step - loss: 0.0721 - accuracy: 0.9872\n",
      "Epoch 41/100\n",
      "20/20 [==============================] - 0s 8ms/step - loss: 0.0651 - accuracy: 0.9936\n",
      "Epoch 42/100\n",
      "20/20 [==============================] - 0s 10ms/step - loss: 0.0624 - accuracy: 0.9936\n",
      "Epoch 43/100\n",
      "20/20 [==============================] - 0s 8ms/step - loss: 0.0536 - accuracy: 0.9936\n",
      "Epoch 44/100\n",
      "20/20 [==============================] - 0s 9ms/step - loss: 0.0623 - accuracy: 0.9936\n",
      "Epoch 45/100\n",
      "20/20 [==============================] - 0s 5ms/step - loss: 0.1503 - accuracy: 0.9295\n",
      "Epoch 46/100\n",
      "20/20 [==============================] - 0s 8ms/step - loss: 0.1411 - accuracy: 0.9231\n",
      "Epoch 47/100\n",
      "20/20 [==============================] - 0s 10ms/step - loss: 0.0854 - accuracy: 0.9744\n",
      "Epoch 48/100\n",
      "20/20 [==============================] - 0s 11ms/step - loss: 0.0537 - accuracy: 0.9936\n",
      "Epoch 49/100\n",
      "20/20 [==============================] - 0s 7ms/step - loss: 0.0451 - accuracy: 0.9936\n",
      "Epoch 50/100\n",
      "20/20 [==============================] - 0s 7ms/step - loss: 0.0342 - accuracy: 0.9936\n",
      "Epoch 51/100\n",
      "20/20 [==============================] - 0s 10ms/step - loss: 0.0339 - accuracy: 1.0000\n",
      "Epoch 52/100\n",
      "20/20 [==============================] - 0s 11ms/step - loss: 0.0287 - accuracy: 0.9936\n",
      "Epoch 53/100\n",
      "20/20 [==============================] - 0s 12ms/step - loss: 0.0283 - accuracy: 1.0000\n",
      "Epoch 54/100\n",
      "20/20 [==============================] - 0s 13ms/step - loss: 0.0272 - accuracy: 0.9936\n",
      "Epoch 55/100\n",
      "20/20 [==============================] - 0s 8ms/step - loss: 0.0317 - accuracy: 1.0000\n",
      "Epoch 56/100\n",
      "20/20 [==============================] - 0s 19ms/step - loss: 0.0226 - accuracy: 1.0000\n",
      "Epoch 57/100\n",
      "20/20 [==============================] - 0s 13ms/step - loss: 0.0233 - accuracy: 0.9936\n",
      "Epoch 58/100\n",
      "20/20 [==============================] - 0s 11ms/step - loss: 0.0245 - accuracy: 0.9936\n",
      "Epoch 59/100\n",
      "20/20 [==============================] - 0s 11ms/step - loss: 0.0192 - accuracy: 1.0000\n",
      "Epoch 60/100\n",
      "20/20 [==============================] - 0s 8ms/step - loss: 0.0188 - accuracy: 1.0000\n",
      "Epoch 61/100\n",
      "20/20 [==============================] - 0s 9ms/step - loss: 0.0165 - accuracy: 1.0000\n",
      "Epoch 62/100\n",
      "20/20 [==============================] - 0s 12ms/step - loss: 0.0166 - accuracy: 1.0000\n",
      "Epoch 63/100\n",
      "20/20 [==============================] - 0s 11ms/step - loss: 0.0153 - accuracy: 1.0000\n",
      "Epoch 64/100\n",
      "20/20 [==============================] - 0s 10ms/step - loss: 0.0149 - accuracy: 1.0000\n",
      "Epoch 65/100\n",
      "20/20 [==============================] - 0s 12ms/step - loss: 0.0177 - accuracy: 0.9936\n",
      "Epoch 66/100\n",
      "20/20 [==============================] - 0s 14ms/step - loss: 0.0244 - accuracy: 0.9936\n",
      "Epoch 67/100\n",
      "20/20 [==============================] - 0s 11ms/step - loss: 0.0134 - accuracy: 1.0000\n",
      "Epoch 68/100\n",
      "20/20 [==============================] - 0s 11ms/step - loss: 0.0114 - accuracy: 1.0000\n",
      "Epoch 69/100\n",
      "20/20 [==============================] - 0s 10ms/step - loss: 0.0118 - accuracy: 1.0000\n",
      "Epoch 70/100\n",
      "20/20 [==============================] - 0s 13ms/step - loss: 0.0089 - accuracy: 1.0000\n",
      "Epoch 71/100\n",
      "20/20 [==============================] - 0s 11ms/step - loss: 0.0113 - accuracy: 1.0000\n",
      "Epoch 72/100\n",
      "20/20 [==============================] - 0s 8ms/step - loss: 0.0103 - accuracy: 1.0000\n",
      "Epoch 73/100\n",
      "20/20 [==============================] - 0s 6ms/step - loss: 0.0101 - accuracy: 1.0000\n",
      "Epoch 74/100\n",
      "20/20 [==============================] - 0s 10ms/step - loss: 0.0124 - accuracy: 1.0000\n",
      "Epoch 75/100\n",
      "20/20 [==============================] - 0s 9ms/step - loss: 0.0087 - accuracy: 1.0000\n",
      "Epoch 76/100\n",
      "20/20 [==============================] - 0s 13ms/step - loss: 0.0065 - accuracy: 1.0000\n",
      "Epoch 77/100\n",
      "20/20 [==============================] - 0s 8ms/step - loss: 0.0072 - accuracy: 1.0000\n",
      "Epoch 78/100\n",
      "20/20 [==============================] - 0s 11ms/step - loss: 0.0062 - accuracy: 1.0000\n",
      "Epoch 79/100\n",
      "20/20 [==============================] - 0s 13ms/step - loss: 0.0068 - accuracy: 1.0000\n",
      "Epoch 80/100\n",
      "20/20 [==============================] - 0s 11ms/step - loss: 0.0078 - accuracy: 1.0000\n",
      "Epoch 81/100\n",
      "20/20 [==============================] - 0s 16ms/step - loss: 0.0058 - accuracy: 1.0000\n",
      "Epoch 82/100\n",
      "20/20 [==============================] - 0s 12ms/step - loss: 0.0059 - accuracy: 1.0000\n",
      "Epoch 83/100\n",
      "20/20 [==============================] - 0s 13ms/step - loss: 0.0054 - accuracy: 1.0000\n",
      "Epoch 84/100\n",
      "20/20 [==============================] - 0s 12ms/step - loss: 0.0068 - accuracy: 1.0000\n",
      "Epoch 85/100\n",
      "20/20 [==============================] - 0s 12ms/step - loss: 0.0043 - accuracy: 1.0000\n",
      "Epoch 86/100\n",
      "20/20 [==============================] - 0s 9ms/step - loss: 0.0044 - accuracy: 1.0000\n",
      "Epoch 87/100\n",
      "20/20 [==============================] - 0s 14ms/step - loss: 0.0041 - accuracy: 1.0000\n",
      "Epoch 88/100\n",
      "20/20 [==============================] - 0s 11ms/step - loss: 0.0040 - accuracy: 1.0000\n",
      "Epoch 89/100\n",
      "20/20 [==============================] - 0s 9ms/step - loss: 0.0047 - accuracy: 1.0000\n",
      "Epoch 90/100\n",
      "20/20 [==============================] - 0s 9ms/step - loss: 0.0061 - accuracy: 1.0000\n",
      "Epoch 91/100\n",
      "20/20 [==============================] - 0s 10ms/step - loss: 0.0039 - accuracy: 1.0000\n",
      "Epoch 92/100\n",
      "20/20 [==============================] - 0s 7ms/step - loss: 0.0045 - accuracy: 1.0000\n",
      "Epoch 93/100\n",
      "20/20 [==============================] - 0s 10ms/step - loss: 0.0032 - accuracy: 1.0000\n",
      "Epoch 94/100\n",
      "20/20 [==============================] - 0s 10ms/step - loss: 0.0031 - accuracy: 1.0000\n",
      "Epoch 95/100\n",
      "20/20 [==============================] - 0s 8ms/step - loss: 0.0032 - accuracy: 1.0000\n",
      "Epoch 96/100\n",
      "20/20 [==============================] - 0s 11ms/step - loss: 0.0029 - accuracy: 1.0000\n",
      "Epoch 97/100\n",
      "20/20 [==============================] - 0s 17ms/step - loss: 0.0028 - accuracy: 1.0000\n",
      "Epoch 98/100\n",
      "20/20 [==============================] - 0s 19ms/step - loss: 0.0026 - accuracy: 1.0000\n",
      "Epoch 99/100\n",
      "20/20 [==============================] - 0s 15ms/step - loss: 0.0024 - accuracy: 1.0000\n",
      "Epoch 100/100\n",
      "20/20 [==============================] - 0s 8ms/step - loss: 0.0024 - accuracy: 1.0000\n"
     ]
    },
    {
     "output_type": "execute_result",
     "data": {
      "text/plain": [
       "<tensorflow.python.keras.callbacks.History at 0x269f7507760>"
      ]
     },
     "metadata": {},
     "execution_count": 13
    }
   ],
   "source": [
    "import tensorflow as tf\n",
    "from tensorflow import keras\n",
    "\n",
    "model = keras.Sequential([\n",
    "    keras.layers.Dense(60, input_dim=60, activation='relu'),\n",
    "    keras.layers.Dense(30, activation='relu'),\n",
    "    keras.layers.Dense(15, activation='relu'),\n",
    "    keras.layers.Dense(1, activation='sigmoid')\n",
    "])\n",
    "\n",
    "model.compile(loss='binary_crossentropy', optimizer='adam', metrics=['accuracy'])\n",
    "\n",
    "model.fit(x_train, y_train, epochs=100, batch_size=8)"
   ]
  },
  {
   "source": [
    "## Evaluate the performance of the model"
   ],
   "cell_type": "markdown",
   "metadata": {}
  },
  {
   "cell_type": "code",
   "execution_count": 14,
   "metadata": {},
   "outputs": [
    {
     "output_type": "stream",
     "name": "stdout",
     "text": [
      "2/2 [==============================] - 1s 15ms/step - loss: 1.0645 - accuracy: 0.7308\n"
     ]
    },
    {
     "output_type": "execute_result",
     "data": {
      "text/plain": [
       "[1.064536452293396, 0.7307692170143127]"
      ]
     },
     "metadata": {},
     "execution_count": 14
    }
   ],
   "source": [
    "model.evaluate(x_test, y_test)"
   ]
  },
  {
   "cell_type": "code",
   "execution_count": 16,
   "metadata": {},
   "outputs": [
    {
     "output_type": "stream",
     "name": "stdout",
     "text": [
      "[0. 1. 1. 0. 1. 1. 0. 1. 0. 1.]\n"
     ]
    }
   ],
   "source": [
    "y_pred = model.predict(x_test).reshape(-1)\n",
    "\n",
    "# round the values to nearest integer ie 0 or 1\n",
    "y_pred = np.round(y_pred)\n",
    "print(y_pred[:10])"
   ]
  },
  {
   "cell_type": "code",
   "execution_count": 17,
   "metadata": {},
   "outputs": [
    {
     "output_type": "stream",
     "name": "stdout",
     "text": [
      "              precision    recall  f1-score   support\n\n           0       0.70      0.85      0.77        27\n           1       0.79      0.60      0.68        25\n\n    accuracy                           0.73        52\n   macro avg       0.74      0.73      0.72        52\nweighted avg       0.74      0.73      0.73        52\n\n"
     ]
    }
   ],
   "source": [
    "from sklearn.metrics import confusion_matrix , classification_report\n",
    "\n",
    "print(classification_report(y_test, y_pred))"
   ]
  },
  {
   "source": [
    "# Model with Dropout Layer"
   ],
   "cell_type": "markdown",
   "metadata": {}
  },
  {
   "cell_type": "code",
   "execution_count": 18,
   "metadata": {},
   "outputs": [
    {
     "output_type": "stream",
     "name": "stdout",
     "text": [
      "Epoch 1/100\n",
      "20/20 [==============================] - 10s 11ms/step - loss: 0.7146 - accuracy: 0.4936\n",
      "Epoch 2/100\n",
      "20/20 [==============================] - 0s 11ms/step - loss: 0.7582 - accuracy: 0.4551\n",
      "Epoch 3/100\n",
      "20/20 [==============================] - 0s 11ms/step - loss: 0.7314 - accuracy: 0.4872\n",
      "Epoch 4/100\n",
      "20/20 [==============================] - 0s 13ms/step - loss: 0.6596 - accuracy: 0.6026\n",
      "Epoch 5/100\n",
      "20/20 [==============================] - 0s 16ms/step - loss: 0.7035 - accuracy: 0.4936\n",
      "Epoch 6/100\n",
      "20/20 [==============================] - 0s 16ms/step - loss: 0.7002 - accuracy: 0.5385\n",
      "Epoch 7/100\n",
      "20/20 [==============================] - 0s 17ms/step - loss: 0.6892 - accuracy: 0.5128\n",
      "Epoch 8/100\n",
      "20/20 [==============================] - 0s 16ms/step - loss: 0.6930 - accuracy: 0.4872\n",
      "Epoch 9/100\n",
      "20/20 [==============================] - 0s 19ms/step - loss: 0.6957 - accuracy: 0.4872\n",
      "Epoch 10/100\n",
      "20/20 [==============================] - 0s 15ms/step - loss: 0.6741 - accuracy: 0.5769\n",
      "Epoch 11/100\n",
      "20/20 [==============================] - 0s 17ms/step - loss: 0.6860 - accuracy: 0.5769\n",
      "Epoch 12/100\n",
      "20/20 [==============================] - 0s 10ms/step - loss: 0.6645 - accuracy: 0.5769\n",
      "Epoch 13/100\n",
      "20/20 [==============================] - 0s 14ms/step - loss: 0.6691 - accuracy: 0.5897\n",
      "Epoch 14/100\n",
      "20/20 [==============================] - 0s 13ms/step - loss: 0.6632 - accuracy: 0.5897\n",
      "Epoch 15/100\n",
      "20/20 [==============================] - 0s 12ms/step - loss: 0.6571 - accuracy: 0.5897\n",
      "Epoch 16/100\n",
      "20/20 [==============================] - 0s 15ms/step - loss: 0.6648 - accuracy: 0.6026\n",
      "Epoch 17/100\n",
      "20/20 [==============================] - 0s 19ms/step - loss: 0.6662 - accuracy: 0.6090\n",
      "Epoch 18/100\n",
      "20/20 [==============================] - 0s 16ms/step - loss: 0.6592 - accuracy: 0.6026\n",
      "Epoch 19/100\n",
      "20/20 [==============================] - 0s 13ms/step - loss: 0.6505 - accuracy: 0.5577\n",
      "Epoch 20/100\n",
      "20/20 [==============================] - 0s 21ms/step - loss: 0.6177 - accuracy: 0.6923\n",
      "Epoch 21/100\n",
      "20/20 [==============================] - 0s 11ms/step - loss: 0.6101 - accuracy: 0.6795\n",
      "Epoch 22/100\n",
      "20/20 [==============================] - 0s 14ms/step - loss: 0.6559 - accuracy: 0.6218\n",
      "Epoch 23/100\n",
      "20/20 [==============================] - 0s 15ms/step - loss: 0.6203 - accuracy: 0.6474\n",
      "Epoch 24/100\n",
      "20/20 [==============================] - 0s 17ms/step - loss: 0.6108 - accuracy: 0.6795\n",
      "Epoch 25/100\n",
      "20/20 [==============================] - 0s 14ms/step - loss: 0.6512 - accuracy: 0.6090\n",
      "Epoch 26/100\n",
      "20/20 [==============================] - 0s 17ms/step - loss: 0.6149 - accuracy: 0.6667\n",
      "Epoch 27/100\n",
      "20/20 [==============================] - 0s 11ms/step - loss: 0.6529 - accuracy: 0.6154\n",
      "Epoch 28/100\n",
      "20/20 [==============================] - 0s 13ms/step - loss: 0.6100 - accuracy: 0.6859\n",
      "Epoch 29/100\n",
      "20/20 [==============================] - 0s 14ms/step - loss: 0.6142 - accuracy: 0.6667\n",
      "Epoch 30/100\n",
      "20/20 [==============================] - 0s 8ms/step - loss: 0.6282 - accuracy: 0.6154\n",
      "Epoch 31/100\n",
      "20/20 [==============================] - 0s 11ms/step - loss: 0.5984 - accuracy: 0.6923\n",
      "Epoch 32/100\n",
      "20/20 [==============================] - 0s 8ms/step - loss: 0.5703 - accuracy: 0.7308\n",
      "Epoch 33/100\n",
      "20/20 [==============================] - 0s 8ms/step - loss: 0.5918 - accuracy: 0.7244\n",
      "Epoch 34/100\n",
      "20/20 [==============================] - 0s 8ms/step - loss: 0.5751 - accuracy: 0.7179\n",
      "Epoch 35/100\n",
      "20/20 [==============================] - 0s 7ms/step - loss: 0.5466 - accuracy: 0.7179\n",
      "Epoch 36/100\n",
      "20/20 [==============================] - 0s 7ms/step - loss: 0.5625 - accuracy: 0.6731\n",
      "Epoch 37/100\n",
      "20/20 [==============================] - 0s 9ms/step - loss: 0.5354 - accuracy: 0.7500\n",
      "Epoch 38/100\n",
      "20/20 [==============================] - 0s 8ms/step - loss: 0.5358 - accuracy: 0.7308\n",
      "Epoch 39/100\n",
      "20/20 [==============================] - 0s 10ms/step - loss: 0.5347 - accuracy: 0.6795\n",
      "Epoch 40/100\n",
      "20/20 [==============================] - 0s 12ms/step - loss: 0.4897 - accuracy: 0.7949\n",
      "Epoch 41/100\n",
      "20/20 [==============================] - 0s 14ms/step - loss: 0.4882 - accuracy: 0.7628\n",
      "Epoch 42/100\n",
      "20/20 [==============================] - 0s 18ms/step - loss: 0.5057 - accuracy: 0.7885\n",
      "Epoch 43/100\n",
      "20/20 [==============================] - 0s 10ms/step - loss: 0.4665 - accuracy: 0.8397\n",
      "Epoch 44/100\n",
      "20/20 [==============================] - 0s 14ms/step - loss: 0.4761 - accuracy: 0.8397\n",
      "Epoch 45/100\n",
      "20/20 [==============================] - 0s 10ms/step - loss: 0.4279 - accuracy: 0.7756\n",
      "Epoch 46/100\n",
      "20/20 [==============================] - 0s 12ms/step - loss: 0.4743 - accuracy: 0.7885\n",
      "Epoch 47/100\n",
      "20/20 [==============================] - 0s 11ms/step - loss: 0.4582 - accuracy: 0.8013\n",
      "Epoch 48/100\n",
      "20/20 [==============================] - 0s 17ms/step - loss: 0.4895 - accuracy: 0.7500\n",
      "Epoch 49/100\n",
      "20/20 [==============================] - 0s 14ms/step - loss: 0.4430 - accuracy: 0.7756\n",
      "Epoch 50/100\n",
      "20/20 [==============================] - 0s 14ms/step - loss: 0.4633 - accuracy: 0.7949\n",
      "Epoch 51/100\n",
      "20/20 [==============================] - 0s 12ms/step - loss: 0.4171 - accuracy: 0.8205\n",
      "Epoch 52/100\n",
      "20/20 [==============================] - 0s 8ms/step - loss: 0.4264 - accuracy: 0.7821\n",
      "Epoch 53/100\n",
      "20/20 [==============================] - 0s 8ms/step - loss: 0.4365 - accuracy: 0.7949\n",
      "Epoch 54/100\n",
      "20/20 [==============================] - 0s 7ms/step - loss: 0.4262 - accuracy: 0.7885\n",
      "Epoch 55/100\n",
      "20/20 [==============================] - 0s 6ms/step - loss: 0.4690 - accuracy: 0.8077\n",
      "Epoch 56/100\n",
      "20/20 [==============================] - 0s 10ms/step - loss: 0.3640 - accuracy: 0.8654\n",
      "Epoch 57/100\n",
      "20/20 [==============================] - 0s 9ms/step - loss: 0.4481 - accuracy: 0.8205\n",
      "Epoch 58/100\n",
      "20/20 [==============================] - 0s 10ms/step - loss: 0.4107 - accuracy: 0.8397\n",
      "Epoch 59/100\n",
      "20/20 [==============================] - 0s 7ms/step - loss: 0.4158 - accuracy: 0.8013\n",
      "Epoch 60/100\n",
      "20/20 [==============================] - 0s 9ms/step - loss: 0.3872 - accuracy: 0.8654\n",
      "Epoch 61/100\n",
      "20/20 [==============================] - 0s 7ms/step - loss: 0.4036 - accuracy: 0.8269\n",
      "Epoch 62/100\n",
      "20/20 [==============================] - 0s 11ms/step - loss: 0.4059 - accuracy: 0.8205\n",
      "Epoch 63/100\n",
      "20/20 [==============================] - 0s 13ms/step - loss: 0.4073 - accuracy: 0.8333\n",
      "Epoch 64/100\n",
      "20/20 [==============================] - 0s 15ms/step - loss: 0.4132 - accuracy: 0.8205\n",
      "Epoch 65/100\n",
      "20/20 [==============================] - 0s 16ms/step - loss: 0.4345 - accuracy: 0.7821\n",
      "Epoch 66/100\n",
      "20/20 [==============================] - 0s 13ms/step - loss: 0.3675 - accuracy: 0.8590\n",
      "Epoch 67/100\n",
      "20/20 [==============================] - 0s 13ms/step - loss: 0.3794 - accuracy: 0.8590\n",
      "Epoch 68/100\n",
      "20/20 [==============================] - 0s 15ms/step - loss: 0.4081 - accuracy: 0.8462\n",
      "Epoch 69/100\n",
      "20/20 [==============================] - 0s 9ms/step - loss: 0.3950 - accuracy: 0.7885\n",
      "Epoch 70/100\n",
      "20/20 [==============================] - 0s 18ms/step - loss: 0.3871 - accuracy: 0.8718\n",
      "Epoch 71/100\n",
      "20/20 [==============================] - 0s 12ms/step - loss: 0.3394 - accuracy: 0.8397\n",
      "Epoch 72/100\n",
      "20/20 [==============================] - 0s 15ms/step - loss: 0.3571 - accuracy: 0.8333\n",
      "Epoch 73/100\n",
      "20/20 [==============================] - 0s 13ms/step - loss: 0.3845 - accuracy: 0.8397\n",
      "Epoch 74/100\n",
      "20/20 [==============================] - 0s 10ms/step - loss: 0.3393 - accuracy: 0.8590\n",
      "Epoch 75/100\n",
      "20/20 [==============================] - 0s 24ms/step - loss: 0.3796 - accuracy: 0.8654\n",
      "Epoch 76/100\n",
      "20/20 [==============================] - 1s 42ms/step - loss: 0.3505 - accuracy: 0.8462\n",
      "Epoch 77/100\n",
      "20/20 [==============================] - 1s 24ms/step - loss: 0.3428 - accuracy: 0.8718\n",
      "Epoch 78/100\n",
      "20/20 [==============================] - 1s 29ms/step - loss: 0.3516 - accuracy: 0.8526\n",
      "Epoch 79/100\n",
      "20/20 [==============================] - 0s 10ms/step - loss: 0.3354 - accuracy: 0.8397\n",
      "Epoch 80/100\n",
      "20/20 [==============================] - 0s 17ms/step - loss: 0.3220 - accuracy: 0.8654\n",
      "Epoch 81/100\n",
      "20/20 [==============================] - 1s 25ms/step - loss: 0.3168 - accuracy: 0.8654\n",
      "Epoch 82/100\n",
      "20/20 [==============================] - 0s 16ms/step - loss: 0.3439 - accuracy: 0.8397\n",
      "Epoch 83/100\n",
      "20/20 [==============================] - 0s 17ms/step - loss: 0.2358 - accuracy: 0.9167\n",
      "Epoch 84/100\n",
      "20/20 [==============================] - 0s 11ms/step - loss: 0.3420 - accuracy: 0.8782\n",
      "Epoch 85/100\n",
      "20/20 [==============================] - 0s 15ms/step - loss: 0.3447 - accuracy: 0.8590\n",
      "Epoch 86/100\n",
      "20/20 [==============================] - 0s 14ms/step - loss: 0.3273 - accuracy: 0.8718\n",
      "Epoch 87/100\n",
      "20/20 [==============================] - 0s 13ms/step - loss: 0.2547 - accuracy: 0.8910\n",
      "Epoch 88/100\n",
      "20/20 [==============================] - 0s 12ms/step - loss: 0.2835 - accuracy: 0.8654\n",
      "Epoch 89/100\n",
      "20/20 [==============================] - 0s 13ms/step - loss: 0.3257 - accuracy: 0.8782\n",
      "Epoch 90/100\n",
      "20/20 [==============================] - 0s 13ms/step - loss: 0.2479 - accuracy: 0.8974\n",
      "Epoch 91/100\n",
      "20/20 [==============================] - 0s 19ms/step - loss: 0.2808 - accuracy: 0.9167\n",
      "Epoch 92/100\n",
      "20/20 [==============================] - 0s 15ms/step - loss: 0.2890 - accuracy: 0.9038\n",
      "Epoch 93/100\n",
      "20/20 [==============================] - 0s 18ms/step - loss: 0.3012 - accuracy: 0.8910\n",
      "Epoch 94/100\n",
      "20/20 [==============================] - 0s 11ms/step - loss: 0.2428 - accuracy: 0.8910\n",
      "Epoch 95/100\n",
      "20/20 [==============================] - 0s 18ms/step - loss: 0.2546 - accuracy: 0.9423\n",
      "Epoch 96/100\n",
      "20/20 [==============================] - 0s 20ms/step - loss: 0.3448 - accuracy: 0.8526\n",
      "Epoch 97/100\n",
      "20/20 [==============================] - 0s 13ms/step - loss: 0.2962 - accuracy: 0.8654\n",
      "Epoch 98/100\n",
      "20/20 [==============================] - 0s 13ms/step - loss: 0.2285 - accuracy: 0.9103\n",
      "Epoch 99/100\n",
      "20/20 [==============================] - 0s 14ms/step - loss: 0.2594 - accuracy: 0.8654\n",
      "Epoch 100/100\n",
      "20/20 [==============================] - 0s 12ms/step - loss: 0.2513 - accuracy: 0.9103\n"
     ]
    },
    {
     "output_type": "execute_result",
     "data": {
      "text/plain": [
       "<tensorflow.python.keras.callbacks.History at 0x269f9da20d0>"
      ]
     },
     "metadata": {},
     "execution_count": 18
    }
   ],
   "source": [
    "model_d = keras.Sequential([\n",
    "    keras.layers.Dense(60, input_dim=60, activation='relu'),\n",
    "    keras.layers.Dropout(0.5),\n",
    "    keras.layers.Dense(30, activation='relu'),\n",
    "    keras.layers.Dropout(0.5),\n",
    "    keras.layers.Dense(15, activation='relu'),\n",
    "    keras.layers.Dropout(0.5),\n",
    "    keras.layers.Dense(1, activation='sigmoid')\n",
    "])\n",
    "\n",
    "model_d.compile(loss='binary_crossentropy', optimizer='adam', metrics=['accuracy'])\n",
    "\n",
    "model_d.fit(x_train, y_train, epochs=100, batch_size=8)"
   ]
  },
  {
   "cell_type": "code",
   "execution_count": 19,
   "metadata": {},
   "outputs": [
    {
     "output_type": "stream",
     "name": "stdout",
     "text": [
      "2/2 [==============================] - 1s 28ms/step - loss: 0.4702 - accuracy: 0.7885\n"
     ]
    },
    {
     "output_type": "execute_result",
     "data": {
      "text/plain": [
       "[0.47016966342926025, 0.7884615659713745]"
      ]
     },
     "metadata": {},
     "execution_count": 19
    }
   ],
   "source": [
    "model_d.evaluate(x_test, y_test)"
   ]
  },
  {
   "cell_type": "code",
   "execution_count": 20,
   "metadata": {},
   "outputs": [
    {
     "output_type": "stream",
     "name": "stdout",
     "text": [
      "[0. 1. 1. 0. 1. 1. 0. 1. 0. 1.]\n"
     ]
    }
   ],
   "source": [
    "y_pred = model_d.predict(x_test).reshape(-1)\n",
    "\n",
    "# round the values to nearest integer ie 0 or 1\n",
    "y_pred = np.round(y_pred)\n",
    "print(y_pred[:10])"
   ]
  },
  {
   "cell_type": "code",
   "execution_count": 21,
   "metadata": {},
   "outputs": [
    {
     "output_type": "stream",
     "name": "stdout",
     "text": [
      "              precision    recall  f1-score   support\n\n           0       0.77      0.85      0.81        27\n           1       0.82      0.72      0.77        25\n\n    accuracy                           0.79        52\n   macro avg       0.79      0.79      0.79        52\nweighted avg       0.79      0.79      0.79        52\n\n"
     ]
    }
   ],
   "source": [
    "from sklearn.metrics import confusion_matrix , classification_report\n",
    "\n",
    "print(classification_report(y_test, y_pred))"
   ]
  },
  {
   "source": [
    "** Here by using dropout regularization technique , F1 score of our model increases **"
   ],
   "cell_type": "markdown",
   "metadata": {}
  }
 ]
}